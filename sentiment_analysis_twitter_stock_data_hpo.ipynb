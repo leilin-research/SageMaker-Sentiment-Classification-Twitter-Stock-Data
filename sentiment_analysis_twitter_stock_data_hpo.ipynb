{
 "cells": [
  {
   "cell_type": "code",
   "execution_count": 2,
   "id": "5ab73800-4de9-448b-98af-b35c9778bc9b",
   "metadata": {},
   "outputs": [
    {
     "name": "stdout",
     "output_type": "stream",
     "text": [
      "\u001b[33mWARNING: Running pip as the 'root' user can result in broken permissions and conflicting behaviour with the system package manager. It is recommended to use a virtual environment instead: https://pip.pypa.io/warnings/venv\u001b[0m\u001b[33m\n",
      "\u001b[0mCollecting package metadata (current_repodata.json): ...working... done\n",
      "Solving environment: ...working... done\n",
      "\n",
      "# All requested packages already installed.\n",
      "\n",
      "Retrieving notices: ...working... done\n",
      "\u001b[33mWARNING: Running pip as the 'root' user can result in broken permissions and conflicting behaviour with the system package manager. It is recommended to use a virtual environment instead: https://pip.pypa.io/warnings/venv\u001b[0m\u001b[33m\n",
      "\u001b[0m"
     ]
    }
   ],
   "source": [
    "# please ignore warning messages during the installation\n",
    "!pip install --disable-pip-version-check -q sagemaker==2.35.0\n",
    "!conda install -q -y pytorch==1.6.0 -c pytorch\n",
    "!pip install --disable-pip-version-check -q transformers==3.5.1"
   ]
  },
  {
   "cell_type": "code",
   "execution_count": 300,
   "id": "7ab16166-c194-4b09-90b7-55e066cbab92",
   "metadata": {},
   "outputs": [],
   "source": [
    "import pandas as pd"
   ]
  },
  {
   "cell_type": "code",
   "execution_count": 301,
   "id": "de65c658-4948-47f0-8365-52b834bd469e",
   "metadata": {},
   "outputs": [],
   "source": [
    "stock_df = pd.read_csv(\"tweets_labelled_09042020_16072020.csv\", sep=';')"
   ]
  },
  {
   "cell_type": "code",
   "execution_count": 302,
   "id": "da0a8d98-b685-4014-ac2d-e5791f4ba948",
   "metadata": {},
   "outputs": [
    {
     "data": {
      "text/html": [
       "<div>\n",
       "<style scoped>\n",
       "    .dataframe tbody tr th:only-of-type {\n",
       "        vertical-align: middle;\n",
       "    }\n",
       "\n",
       "    .dataframe tbody tr th {\n",
       "        vertical-align: top;\n",
       "    }\n",
       "\n",
       "    .dataframe thead th {\n",
       "        text-align: right;\n",
       "    }\n",
       "</style>\n",
       "<table border=\"1\" class=\"dataframe\">\n",
       "  <thead>\n",
       "    <tr style=\"text-align: right;\">\n",
       "      <th></th>\n",
       "      <th>id</th>\n",
       "      <th>created_at</th>\n",
       "      <th>text</th>\n",
       "      <th>sentiment</th>\n",
       "    </tr>\n",
       "  </thead>\n",
       "  <tbody>\n",
       "    <tr>\n",
       "      <th>0</th>\n",
       "      <td>77522</td>\n",
       "      <td>2020-04-15 01:03:46+00:00</td>\n",
       "      <td>RT @RobertBeadles: Yo💥\\nEnter to WIN 1,000 Mon...</td>\n",
       "      <td>positive</td>\n",
       "    </tr>\n",
       "    <tr>\n",
       "      <th>1</th>\n",
       "      <td>661634</td>\n",
       "      <td>2020-06-25 06:20:06+00:00</td>\n",
       "      <td>#SriLanka surcharge on fuel removed!\\n⛽📉\\nThe ...</td>\n",
       "      <td>negative</td>\n",
       "    </tr>\n",
       "    <tr>\n",
       "      <th>2</th>\n",
       "      <td>413231</td>\n",
       "      <td>2020-06-04 15:41:45+00:00</td>\n",
       "      <td>Net issuance increases to fund fiscal programs...</td>\n",
       "      <td>positive</td>\n",
       "    </tr>\n",
       "    <tr>\n",
       "      <th>3</th>\n",
       "      <td>760262</td>\n",
       "      <td>2020-07-03 19:39:35+00:00</td>\n",
       "      <td>RT @bentboolean: How much of Amazon's traffic ...</td>\n",
       "      <td>positive</td>\n",
       "    </tr>\n",
       "    <tr>\n",
       "      <th>4</th>\n",
       "      <td>830153</td>\n",
       "      <td>2020-07-09 14:39:14+00:00</td>\n",
       "      <td>$AMD Ryzen 4000 desktop CPUs looking ‘great’ a...</td>\n",
       "      <td>positive</td>\n",
       "    </tr>\n",
       "  </tbody>\n",
       "</table>\n",
       "</div>"
      ],
      "text/plain": [
       "       id                 created_at  \\\n",
       "0   77522  2020-04-15 01:03:46+00:00   \n",
       "1  661634  2020-06-25 06:20:06+00:00   \n",
       "2  413231  2020-06-04 15:41:45+00:00   \n",
       "3  760262  2020-07-03 19:39:35+00:00   \n",
       "4  830153  2020-07-09 14:39:14+00:00   \n",
       "\n",
       "                                                text sentiment  \n",
       "0  RT @RobertBeadles: Yo💥\\nEnter to WIN 1,000 Mon...  positive  \n",
       "1  #SriLanka surcharge on fuel removed!\\n⛽📉\\nThe ...  negative  \n",
       "2  Net issuance increases to fund fiscal programs...  positive  \n",
       "3  RT @bentboolean: How much of Amazon's traffic ...  positive  \n",
       "4  $AMD Ryzen 4000 desktop CPUs looking ‘great’ a...  positive  "
      ]
     },
     "execution_count": 302,
     "metadata": {},
     "output_type": "execute_result"
    }
   ],
   "source": [
    "stock_df.head()"
   ]
  },
  {
   "cell_type": "code",
   "execution_count": 303,
   "id": "832eee98-844f-4f43-a605-50e7a64606ac",
   "metadata": {},
   "outputs": [],
   "source": [
    "def preprocess(text):\n",
    "    new_text = []\n",
    "    for t in text.split(\" \"):\n",
    "        t = '@user' if t.startswith('@') and len(t) > 1 else t\n",
    "        t = 'http' if t.startswith('http') else t\n",
    "        new_text.append(t)\n",
    "    return \" \".join(new_text)"
   ]
  },
  {
   "cell_type": "code",
   "execution_count": 304,
   "id": "bc4d50d3-f62b-4164-9163-27124891dca9",
   "metadata": {},
   "outputs": [
    {
     "name": "stderr",
     "output_type": "stream",
     "text": [
      "/opt/conda/lib/python3.7/site-packages/ipykernel_launcher.py:2: SettingWithCopyWarning: \n",
      "A value is trying to be set on a copy of a slice from a DataFrame\n",
      "\n",
      "See the caveats in the documentation: https://pandas.pydata.org/pandas-docs/stable/user_guide/indexing.html#returning-a-view-versus-a-copy\n",
      "  \n"
     ]
    }
   ],
   "source": [
    "for index, row in stock_df.iterrows():\n",
    "    stock_df['text'][index] = preprocess(row['text'])"
   ]
  },
  {
   "cell_type": "code",
   "execution_count": 305,
   "id": "1da9872c-28cd-44d4-8a4f-7652f6812a54",
   "metadata": {},
   "outputs": [
    {
     "data": {
      "text/html": [
       "<div>\n",
       "<style scoped>\n",
       "    .dataframe tbody tr th:only-of-type {\n",
       "        vertical-align: middle;\n",
       "    }\n",
       "\n",
       "    .dataframe tbody tr th {\n",
       "        vertical-align: top;\n",
       "    }\n",
       "\n",
       "    .dataframe thead th {\n",
       "        text-align: right;\n",
       "    }\n",
       "</style>\n",
       "<table border=\"1\" class=\"dataframe\">\n",
       "  <thead>\n",
       "    <tr style=\"text-align: right;\">\n",
       "      <th></th>\n",
       "      <th>id</th>\n",
       "      <th>created_at</th>\n",
       "      <th>text</th>\n",
       "      <th>sentiment</th>\n",
       "    </tr>\n",
       "  </thead>\n",
       "  <tbody>\n",
       "    <tr>\n",
       "      <th>0</th>\n",
       "      <td>77522</td>\n",
       "      <td>2020-04-15 01:03:46+00:00</td>\n",
       "      <td>RT @user Yo💥\\nEnter to WIN 1,000 Monarch Token...</td>\n",
       "      <td>positive</td>\n",
       "    </tr>\n",
       "    <tr>\n",
       "      <th>1</th>\n",
       "      <td>661634</td>\n",
       "      <td>2020-06-25 06:20:06+00:00</td>\n",
       "      <td>#SriLanka surcharge on fuel removed!\\n⛽📉\\nThe ...</td>\n",
       "      <td>negative</td>\n",
       "    </tr>\n",
       "    <tr>\n",
       "      <th>2</th>\n",
       "      <td>413231</td>\n",
       "      <td>2020-06-04 15:41:45+00:00</td>\n",
       "      <td>Net issuance increases to fund fiscal programs...</td>\n",
       "      <td>positive</td>\n",
       "    </tr>\n",
       "    <tr>\n",
       "      <th>3</th>\n",
       "      <td>760262</td>\n",
       "      <td>2020-07-03 19:39:35+00:00</td>\n",
       "      <td>RT @user How much of Amazon's traffic is serve...</td>\n",
       "      <td>positive</td>\n",
       "    </tr>\n",
       "    <tr>\n",
       "      <th>4</th>\n",
       "      <td>830153</td>\n",
       "      <td>2020-07-09 14:39:14+00:00</td>\n",
       "      <td>$AMD Ryzen 4000 desktop CPUs looking ‘great’ a...</td>\n",
       "      <td>positive</td>\n",
       "    </tr>\n",
       "    <tr>\n",
       "      <th>...</th>\n",
       "      <td>...</td>\n",
       "      <td>...</td>\n",
       "      <td>...</td>\n",
       "      <td>...</td>\n",
       "    </tr>\n",
       "    <tr>\n",
       "      <th>4995</th>\n",
       "      <td>411380</td>\n",
       "      <td>2020-06-04 18:14:57+00:00</td>\n",
       "      <td>With ad revenues falling, what’s the impact on...</td>\n",
       "      <td>NaN</td>\n",
       "    </tr>\n",
       "    <tr>\n",
       "      <th>4996</th>\n",
       "      <td>62318</td>\n",
       "      <td>2020-04-14 02:15:01+00:00</td>\n",
       "      <td>RT @user Well another point to add to dent the...</td>\n",
       "      <td>NaN</td>\n",
       "    </tr>\n",
       "    <tr>\n",
       "      <th>4997</th>\n",
       "      <td>627230</td>\n",
       "      <td>2020-06-23 14:08:15+00:00</td>\n",
       "      <td>$ITOX working on a contract with a fortune 500...</td>\n",
       "      <td>NaN</td>\n",
       "    </tr>\n",
       "    <tr>\n",
       "      <th>4998</th>\n",
       "      <td>890123</td>\n",
       "      <td>2020-07-14 23:18:34+00:00</td>\n",
       "      <td>$DIS it could break the 120 pin, then 125&amp;gt; ...</td>\n",
       "      <td>NaN</td>\n",
       "    </tr>\n",
       "    <tr>\n",
       "      <th>4999</th>\n",
       "      <td>301411</td>\n",
       "      <td>2020-05-06 04:22:19+00:00</td>\n",
       "      <td>Amedisys Inc $AMED COO Christopher Gerard Sell...</td>\n",
       "      <td>NaN</td>\n",
       "    </tr>\n",
       "  </tbody>\n",
       "</table>\n",
       "<p>5000 rows × 4 columns</p>\n",
       "</div>"
      ],
      "text/plain": [
       "          id                 created_at  \\\n",
       "0      77522  2020-04-15 01:03:46+00:00   \n",
       "1     661634  2020-06-25 06:20:06+00:00   \n",
       "2     413231  2020-06-04 15:41:45+00:00   \n",
       "3     760262  2020-07-03 19:39:35+00:00   \n",
       "4     830153  2020-07-09 14:39:14+00:00   \n",
       "...      ...                        ...   \n",
       "4995  411380  2020-06-04 18:14:57+00:00   \n",
       "4996   62318  2020-04-14 02:15:01+00:00   \n",
       "4997  627230  2020-06-23 14:08:15+00:00   \n",
       "4998  890123  2020-07-14 23:18:34+00:00   \n",
       "4999  301411  2020-05-06 04:22:19+00:00   \n",
       "\n",
       "                                                   text sentiment  \n",
       "0     RT @user Yo💥\\nEnter to WIN 1,000 Monarch Token...  positive  \n",
       "1     #SriLanka surcharge on fuel removed!\\n⛽📉\\nThe ...  negative  \n",
       "2     Net issuance increases to fund fiscal programs...  positive  \n",
       "3     RT @user How much of Amazon's traffic is serve...  positive  \n",
       "4     $AMD Ryzen 4000 desktop CPUs looking ‘great’ a...  positive  \n",
       "...                                                 ...       ...  \n",
       "4995  With ad revenues falling, what’s the impact on...       NaN  \n",
       "4996  RT @user Well another point to add to dent the...       NaN  \n",
       "4997  $ITOX working on a contract with a fortune 500...       NaN  \n",
       "4998  $DIS it could break the 120 pin, then 125&gt; ...       NaN  \n",
       "4999  Amedisys Inc $AMED COO Christopher Gerard Sell...       NaN  \n",
       "\n",
       "[5000 rows x 4 columns]"
      ]
     },
     "execution_count": 305,
     "metadata": {},
     "output_type": "execute_result"
    }
   ],
   "source": [
    "stock_df"
   ]
  },
  {
   "cell_type": "code",
   "execution_count": 306,
   "id": "d844bc56-1816-481e-bc72-d5dfc4eb522a",
   "metadata": {},
   "outputs": [
    {
     "data": {
      "text/html": [
       "<div>\n",
       "<style scoped>\n",
       "    .dataframe tbody tr th:only-of-type {\n",
       "        vertical-align: middle;\n",
       "    }\n",
       "\n",
       "    .dataframe tbody tr th {\n",
       "        vertical-align: top;\n",
       "    }\n",
       "\n",
       "    .dataframe thead th {\n",
       "        text-align: right;\n",
       "    }\n",
       "</style>\n",
       "<table border=\"1\" class=\"dataframe\">\n",
       "  <thead>\n",
       "    <tr style=\"text-align: right;\">\n",
       "      <th></th>\n",
       "      <th>id</th>\n",
       "      <th>created_at</th>\n",
       "      <th>text</th>\n",
       "      <th>sentiment</th>\n",
       "    </tr>\n",
       "  </thead>\n",
       "  <tbody>\n",
       "    <tr>\n",
       "      <th>0</th>\n",
       "      <td>77522</td>\n",
       "      <td>2020-04-15 01:03:46+00:00</td>\n",
       "      <td>RT @user Yo💥\\nEnter to WIN 1,000 Monarch Token...</td>\n",
       "      <td>positive</td>\n",
       "    </tr>\n",
       "    <tr>\n",
       "      <th>1</th>\n",
       "      <td>661634</td>\n",
       "      <td>2020-06-25 06:20:06+00:00</td>\n",
       "      <td>#SriLanka surcharge on fuel removed!\\n⛽📉\\nThe ...</td>\n",
       "      <td>negative</td>\n",
       "    </tr>\n",
       "    <tr>\n",
       "      <th>2</th>\n",
       "      <td>413231</td>\n",
       "      <td>2020-06-04 15:41:45+00:00</td>\n",
       "      <td>Net issuance increases to fund fiscal programs...</td>\n",
       "      <td>positive</td>\n",
       "    </tr>\n",
       "    <tr>\n",
       "      <th>3</th>\n",
       "      <td>760262</td>\n",
       "      <td>2020-07-03 19:39:35+00:00</td>\n",
       "      <td>RT @user How much of Amazon's traffic is serve...</td>\n",
       "      <td>positive</td>\n",
       "    </tr>\n",
       "    <tr>\n",
       "      <th>4</th>\n",
       "      <td>830153</td>\n",
       "      <td>2020-07-09 14:39:14+00:00</td>\n",
       "      <td>$AMD Ryzen 4000 desktop CPUs looking ‘great’ a...</td>\n",
       "      <td>positive</td>\n",
       "    </tr>\n",
       "    <tr>\n",
       "      <th>...</th>\n",
       "      <td>...</td>\n",
       "      <td>...</td>\n",
       "      <td>...</td>\n",
       "      <td>...</td>\n",
       "    </tr>\n",
       "    <tr>\n",
       "      <th>4995</th>\n",
       "      <td>411380</td>\n",
       "      <td>2020-06-04 18:14:57+00:00</td>\n",
       "      <td>With ad revenues falling, what’s the impact on...</td>\n",
       "      <td>NaN</td>\n",
       "    </tr>\n",
       "    <tr>\n",
       "      <th>4996</th>\n",
       "      <td>62318</td>\n",
       "      <td>2020-04-14 02:15:01+00:00</td>\n",
       "      <td>RT @user Well another point to add to dent the...</td>\n",
       "      <td>NaN</td>\n",
       "    </tr>\n",
       "    <tr>\n",
       "      <th>4997</th>\n",
       "      <td>627230</td>\n",
       "      <td>2020-06-23 14:08:15+00:00</td>\n",
       "      <td>$ITOX working on a contract with a fortune 500...</td>\n",
       "      <td>NaN</td>\n",
       "    </tr>\n",
       "    <tr>\n",
       "      <th>4998</th>\n",
       "      <td>890123</td>\n",
       "      <td>2020-07-14 23:18:34+00:00</td>\n",
       "      <td>$DIS it could break the 120 pin, then 125&amp;gt; ...</td>\n",
       "      <td>NaN</td>\n",
       "    </tr>\n",
       "    <tr>\n",
       "      <th>4999</th>\n",
       "      <td>301411</td>\n",
       "      <td>2020-05-06 04:22:19+00:00</td>\n",
       "      <td>Amedisys Inc $AMED COO Christopher Gerard Sell...</td>\n",
       "      <td>NaN</td>\n",
       "    </tr>\n",
       "  </tbody>\n",
       "</table>\n",
       "<p>5000 rows × 4 columns</p>\n",
       "</div>"
      ],
      "text/plain": [
       "          id                 created_at  \\\n",
       "0      77522  2020-04-15 01:03:46+00:00   \n",
       "1     661634  2020-06-25 06:20:06+00:00   \n",
       "2     413231  2020-06-04 15:41:45+00:00   \n",
       "3     760262  2020-07-03 19:39:35+00:00   \n",
       "4     830153  2020-07-09 14:39:14+00:00   \n",
       "...      ...                        ...   \n",
       "4995  411380  2020-06-04 18:14:57+00:00   \n",
       "4996   62318  2020-04-14 02:15:01+00:00   \n",
       "4997  627230  2020-06-23 14:08:15+00:00   \n",
       "4998  890123  2020-07-14 23:18:34+00:00   \n",
       "4999  301411  2020-05-06 04:22:19+00:00   \n",
       "\n",
       "                                                   text sentiment  \n",
       "0     RT @user Yo💥\\nEnter to WIN 1,000 Monarch Token...  positive  \n",
       "1     #SriLanka surcharge on fuel removed!\\n⛽📉\\nThe ...  negative  \n",
       "2     Net issuance increases to fund fiscal programs...  positive  \n",
       "3     RT @user How much of Amazon's traffic is serve...  positive  \n",
       "4     $AMD Ryzen 4000 desktop CPUs looking ‘great’ a...  positive  \n",
       "...                                                 ...       ...  \n",
       "4995  With ad revenues falling, what’s the impact on...       NaN  \n",
       "4996  RT @user Well another point to add to dent the...       NaN  \n",
       "4997  $ITOX working on a contract with a fortune 500...       NaN  \n",
       "4998  $DIS it could break the 120 pin, then 125&gt; ...       NaN  \n",
       "4999  Amedisys Inc $AMED COO Christopher Gerard Sell...       NaN  \n",
       "\n",
       "[5000 rows x 4 columns]"
      ]
     },
     "execution_count": 306,
     "metadata": {},
     "output_type": "execute_result"
    }
   ],
   "source": [
    "stock_df"
   ]
  },
  {
   "cell_type": "code",
   "execution_count": 307,
   "id": "edd712ec-f5bd-40a4-ba9b-66f3a1e5fb97",
   "metadata": {},
   "outputs": [],
   "source": [
    "stock_df = stock_df.rename(columns={'sentiment':'sentiment_label'})"
   ]
  },
  {
   "cell_type": "code",
   "execution_count": 308,
   "id": "ba194d8d-9719-470a-90d4-847c99f476e7",
   "metadata": {},
   "outputs": [],
   "source": [
    "def text_to_label(x):\n",
    "    if x == 'positive':\n",
    "        return 1\n",
    "    elif x == 'negative':\n",
    "        return -1\n",
    "    else:\n",
    "        return 0"
   ]
  },
  {
   "cell_type": "code",
   "execution_count": 309,
   "id": "9fa97fba-2621-4d63-8a41-8292145dc7b6",
   "metadata": {},
   "outputs": [],
   "source": [
    "stock_df['sentiment'] = stock_df['sentiment_label'].apply(text_to_label)"
   ]
  },
  {
   "cell_type": "code",
   "execution_count": 310,
   "id": "33684a4e-f4e4-4fce-9ce4-ead7ffd2cc21",
   "metadata": {},
   "outputs": [
    {
     "data": {
      "text/html": [
       "<div>\n",
       "<style scoped>\n",
       "    .dataframe tbody tr th:only-of-type {\n",
       "        vertical-align: middle;\n",
       "    }\n",
       "\n",
       "    .dataframe tbody tr th {\n",
       "        vertical-align: top;\n",
       "    }\n",
       "\n",
       "    .dataframe thead th {\n",
       "        text-align: right;\n",
       "    }\n",
       "</style>\n",
       "<table border=\"1\" class=\"dataframe\">\n",
       "  <thead>\n",
       "    <tr style=\"text-align: right;\">\n",
       "      <th></th>\n",
       "      <th>id</th>\n",
       "      <th>created_at</th>\n",
       "      <th>text</th>\n",
       "      <th>sentiment_label</th>\n",
       "      <th>sentiment</th>\n",
       "    </tr>\n",
       "  </thead>\n",
       "  <tbody>\n",
       "    <tr>\n",
       "      <th>0</th>\n",
       "      <td>77522</td>\n",
       "      <td>2020-04-15 01:03:46+00:00</td>\n",
       "      <td>RT @user Yo💥\\nEnter to WIN 1,000 Monarch Token...</td>\n",
       "      <td>positive</td>\n",
       "      <td>1</td>\n",
       "    </tr>\n",
       "    <tr>\n",
       "      <th>1</th>\n",
       "      <td>661634</td>\n",
       "      <td>2020-06-25 06:20:06+00:00</td>\n",
       "      <td>#SriLanka surcharge on fuel removed!\\n⛽📉\\nThe ...</td>\n",
       "      <td>negative</td>\n",
       "      <td>-1</td>\n",
       "    </tr>\n",
       "    <tr>\n",
       "      <th>2</th>\n",
       "      <td>413231</td>\n",
       "      <td>2020-06-04 15:41:45+00:00</td>\n",
       "      <td>Net issuance increases to fund fiscal programs...</td>\n",
       "      <td>positive</td>\n",
       "      <td>1</td>\n",
       "    </tr>\n",
       "    <tr>\n",
       "      <th>3</th>\n",
       "      <td>760262</td>\n",
       "      <td>2020-07-03 19:39:35+00:00</td>\n",
       "      <td>RT @user How much of Amazon's traffic is serve...</td>\n",
       "      <td>positive</td>\n",
       "      <td>1</td>\n",
       "    </tr>\n",
       "    <tr>\n",
       "      <th>4</th>\n",
       "      <td>830153</td>\n",
       "      <td>2020-07-09 14:39:14+00:00</td>\n",
       "      <td>$AMD Ryzen 4000 desktop CPUs looking ‘great’ a...</td>\n",
       "      <td>positive</td>\n",
       "      <td>1</td>\n",
       "    </tr>\n",
       "  </tbody>\n",
       "</table>\n",
       "</div>"
      ],
      "text/plain": [
       "       id                 created_at  \\\n",
       "0   77522  2020-04-15 01:03:46+00:00   \n",
       "1  661634  2020-06-25 06:20:06+00:00   \n",
       "2  413231  2020-06-04 15:41:45+00:00   \n",
       "3  760262  2020-07-03 19:39:35+00:00   \n",
       "4  830153  2020-07-09 14:39:14+00:00   \n",
       "\n",
       "                                                text sentiment_label  \\\n",
       "0  RT @user Yo💥\\nEnter to WIN 1,000 Monarch Token...        positive   \n",
       "1  #SriLanka surcharge on fuel removed!\\n⛽📉\\nThe ...        negative   \n",
       "2  Net issuance increases to fund fiscal programs...        positive   \n",
       "3  RT @user How much of Amazon's traffic is serve...        positive   \n",
       "4  $AMD Ryzen 4000 desktop CPUs looking ‘great’ a...        positive   \n",
       "\n",
       "   sentiment  \n",
       "0          1  \n",
       "1         -1  \n",
       "2          1  \n",
       "3          1  \n",
       "4          1  "
      ]
     },
     "execution_count": 310,
     "metadata": {},
     "output_type": "execute_result"
    }
   ],
   "source": [
    "stock_df.head()"
   ]
  },
  {
   "cell_type": "code",
   "execution_count": 311,
   "id": "fd5161d0-3b05-4b1d-9994-c10ebf3c52d8",
   "metadata": {},
   "outputs": [
    {
     "data": {
      "text/plain": [
       " 0    4124\n",
       " 1     528\n",
       "-1     348\n",
       "Name: sentiment, dtype: int64"
      ]
     },
     "execution_count": 311,
     "metadata": {},
     "output_type": "execute_result"
    }
   ],
   "source": [
    "stock_df.sentiment.value_counts()"
   ]
  },
  {
   "cell_type": "code",
   "execution_count": 312,
   "id": "5f8f4412-b187-4b81-b66a-fad981fb39cc",
   "metadata": {},
   "outputs": [],
   "source": [
    "stock_df = stock_df[['text', 'sentiment']]\n",
    "stock_df = stock_df.rename(columns={'text':\"Review Text\"})\n"
   ]
  },
  {
   "cell_type": "code",
   "execution_count": 313,
   "id": "6afcbb48-9b3a-467b-bf86-1325bcf12f5f",
   "metadata": {},
   "outputs": [],
   "source": [
    "stock_df.to_csv(\"stock_df_preprocessed.csv\", index=False)"
   ]
  },
  {
   "cell_type": "code",
   "execution_count": 314,
   "id": "e2aa59cb-768c-4cc5-a5c7-042dc2a0bd4f",
   "metadata": {},
   "outputs": [],
   "source": [
    "import sagemaker\n",
    "import boto3"
   ]
  },
  {
   "cell_type": "code",
   "execution_count": 315,
   "id": "24f94578-b47a-4c40-a919-9d199a3918e2",
   "metadata": {},
   "outputs": [],
   "source": [
    "sess = sagemaker.Session()\n",
    "\n",
    "bucket = sess.default_bucket()\n",
    "# role = sagemaker.get_execution_role()\n",
    "region = sess.boto_region_name\n",
    "\n",
    "try:\n",
    "    role = sagemaker.get_execution_role()\n",
    "except ValueError:\n",
    "    iam = boto3.client('iam')\n",
    "    role = iam.get_role(RoleName='AmazonSageMaker-ExecutionRole-20220916T155064')['Role']['Arn']"
   ]
  },
  {
   "cell_type": "code",
   "execution_count": 316,
   "id": "4c0132f0-c6e8-421b-9a02-9a038b02d533",
   "metadata": {},
   "outputs": [],
   "source": [
    "import matplotlib.pyplot as plt\n",
    "%matplotlib inline\n",
    "%config InlineBackend.figure_format='retina'"
   ]
  },
  {
   "cell_type": "code",
   "execution_count": 317,
   "id": "21ae6999-2a76-49ee-96c7-8c072cf35a00",
   "metadata": {},
   "outputs": [
    {
     "data": {
      "text/plain": [
       "'sagemaker-us-east-1-441750884902'"
      ]
     },
     "execution_count": 317,
     "metadata": {},
     "output_type": "execute_result"
    }
   ],
   "source": [
    "bucket"
   ]
  },
  {
   "cell_type": "code",
   "execution_count": 318,
   "id": "7adf245d-3bb2-431e-86b2-75b02b3f2ae7",
   "metadata": {},
   "outputs": [
    {
     "data": {
      "text/plain": [
       "'arn:aws:iam::441750884902:role/service-role/AmazonSageMaker-ExecutionRole-20220916T155064'"
      ]
     },
     "execution_count": 318,
     "metadata": {},
     "output_type": "execute_result"
    }
   ],
   "source": [
    "role"
   ]
  },
  {
   "cell_type": "code",
   "execution_count": 319,
   "id": "b68948b7-10c6-4726-9f04-77f1993636cb",
   "metadata": {},
   "outputs": [
    {
     "data": {
      "text/plain": [
       "'us-east-1'"
      ]
     },
     "execution_count": 319,
     "metadata": {},
     "output_type": "execute_result"
    }
   ],
   "source": [
    "region"
   ]
  },
  {
   "cell_type": "code",
   "execution_count": 320,
   "id": "881c8d28-1327-480e-8bad-bb56d71dc9da",
   "metadata": {},
   "outputs": [
    {
     "name": "stdout",
     "output_type": "stream",
     "text": [
      "Feature group name: reviews-feature-group-1664297330\n",
      "Feature store offline prefix in S3: reviews-feature-store-1664297330\n"
     ]
    }
   ],
   "source": [
    "import time\n",
    "timestamp = int(time.time())\n",
    "\n",
    "feature_group_name = 'reviews-feature-group-' + str(timestamp)\n",
    "feature_store_offline_prefix = 'reviews-feature-store-' + str(timestamp)\n",
    "\n",
    "print('Feature group name: {}'.format(feature_group_name))\n",
    "print('Feature store offline prefix in S3: {}'.format(feature_store_offline_prefix))"
   ]
  },
  {
   "cell_type": "code",
   "execution_count": 321,
   "id": "70655abd-f8af-418b-adbf-5e40a0a71d4e",
   "metadata": {},
   "outputs": [],
   "source": [
    "from sagemaker.feature_store.feature_definition import (\n",
    "    FeatureDefinition,\n",
    "    FeatureTypeEnum,\n",
    ")\n",
    "\n",
    "feature_definitions= [\n",
    "    # unique ID of the review\n",
    "    FeatureDefinition(feature_name='review_id', feature_type=FeatureTypeEnum.STRING), \n",
    "    # ingestion timestamp\n",
    "    FeatureDefinition(feature_name='date', feature_type=FeatureTypeEnum.STRING),\n",
    "    # sentiment: -1 (negative), 0 (neutral) or 1 (positive). It will be found the Rating values (1, 2, 3, 4, 5)\n",
    "    FeatureDefinition(feature_name='sentiment', feature_type=FeatureTypeEnum.STRING), \n",
    "    # label ID of the target class (sentiment)\n",
    "    FeatureDefinition(feature_name='label_id', feature_type=FeatureTypeEnum.STRING),\n",
    "    # reviews encoded with the BERT tokenizer\n",
    "    FeatureDefinition(feature_name='input_ids', feature_type=FeatureTypeEnum.STRING),\n",
    "    # original Review Text\n",
    "    FeatureDefinition(feature_name='review_body', feature_type=FeatureTypeEnum.STRING),\n",
    "    # train/validation/test label\n",
    "    FeatureDefinition(feature_name='split_type', feature_type=FeatureTypeEnum.STRING)\n",
    "]"
   ]
  },
  {
   "cell_type": "code",
   "execution_count": 322,
   "id": "69d51b34-6c5c-49fc-ac92-e592017ae9bd",
   "metadata": {},
   "outputs": [
    {
     "name": "stdout",
     "output_type": "stream",
     "text": [
      "FeatureGroup(name='reviews-feature-group-1664297330', sagemaker_session=<sagemaker.session.Session object at 0x7fb4cbe51390>, feature_definitions=[FeatureDefinition(feature_name='review_id', feature_type=<FeatureTypeEnum.STRING: 'String'>), FeatureDefinition(feature_name='date', feature_type=<FeatureTypeEnum.STRING: 'String'>), FeatureDefinition(feature_name='sentiment', feature_type=<FeatureTypeEnum.STRING: 'String'>), FeatureDefinition(feature_name='label_id', feature_type=<FeatureTypeEnum.STRING: 'String'>), FeatureDefinition(feature_name='input_ids', feature_type=<FeatureTypeEnum.STRING: 'String'>), FeatureDefinition(feature_name='review_body', feature_type=<FeatureTypeEnum.STRING: 'String'>), FeatureDefinition(feature_name='split_type', feature_type=<FeatureTypeEnum.STRING: 'String'>)])\n"
     ]
    }
   ],
   "source": [
    "from sagemaker.feature_store.feature_group import FeatureGroup\n",
    "\n",
    "feature_group = FeatureGroup(\n",
    "    ### BEGIN SOLUTION - DO NOT delete this comment for grading purposes\n",
    "    name=feature_group_name, # Replace None\n",
    "    feature_definitions=feature_definitions, # Replace None\n",
    "    ### END SOLUTION - DO NOT delete this comment for grading purposes\n",
    "    sagemaker_session=sess\n",
    ")\n",
    "\n",
    "print(feature_group)"
   ]
  },
  {
   "cell_type": "code",
   "execution_count": 323,
   "id": "2f8cde15-4100-4807-8ad4-511eb79d78cf",
   "metadata": {},
   "outputs": [],
   "source": [
    "processing_instance_type='ml.c5.xlarge'\n",
    "processing_instance_count=1\n",
    "train_split_percentage=0.90\n",
    "validation_split_percentage=0.05\n",
    "test_split_percentage=0.05\n",
    "balance_dataset=True\n",
    "max_seq_length=32#128"
   ]
  },
  {
   "cell_type": "code",
   "execution_count": 324,
   "id": "4bf915c7-d524-4c90-be18-45bb93e63d00",
   "metadata": {},
   "outputs": [],
   "source": [
    "from sagemaker.sklearn.processing import SKLearnProcessor\n",
    "\n",
    "processor = SKLearnProcessor(\n",
    "    framework_version='0.23-1',\n",
    "    role=role,\n",
    "    instance_type=processing_instance_type,\n",
    "    instance_count=processing_instance_count,\n",
    "    env={'AWS_DEFAULT_REGION': region},                             \n",
    "    max_runtime_in_seconds=7200\n",
    ")"
   ]
  },
  {
   "cell_type": "code",
   "execution_count": 325,
   "id": "833884e4-48dd-4b26-ba3a-1fac06e1b4bf",
   "metadata": {},
   "outputs": [],
   "source": [
    "import sys, importlib\n",
    "sys.path.append('src/')\n",
    "\n",
    "# import the `prepare_data.py` module\n",
    "# import prepare_data\n",
    "\n",
    "# # reload the module if it has been previously loaded \n",
    "# if 'prepare_data' in sys.modules:\n",
    "#     importlib.reload(prepare_data)\n",
    "\n",
    "# input_ids = prepare_data.convert_to_bert_input_ids(\"this product is great!\", max_seq_length)\n",
    "    \n",
    "# updated_correctly = False\n",
    "\n",
    "# if len(input_ids) != max_seq_length:\n",
    "#     print('#######################################################################################################')\n",
    "#     print('Please check that the function \\'convert_to_bert_input_ids\\' in the file src/prepare_data.py is complete.')\n",
    "#     print('#######################################################################################################')\n",
    "#     raise Exception('Please check that the function \\'convert_to_bert_input_ids\\' in the file src/prepare_data.py is complete.')\n",
    "# else:\n",
    "#     print('##################')\n",
    "#     print('Updated correctly!')\n",
    "#     print('##################')\n",
    "\n",
    "#     updated_correctly = True"
   ]
  },
  {
   "cell_type": "code",
   "execution_count": 326,
   "id": "de67a56b-91ee-412b-b344-9206d2b3f7da",
   "metadata": {},
   "outputs": [],
   "source": [
    "# input_ids = prepare_data.convert_to_bert_input_ids(\"this product is great!\", max_seq_length)\n",
    "\n",
    "# print(input_ids)\n",
    "# print('Length of the sequence: {}'.format(len(input_ids)))"
   ]
  },
  {
   "cell_type": "code",
   "execution_count": 327,
   "id": "061c3509-cf88-44ce-8257-6ad50d83474d",
   "metadata": {},
   "outputs": [
    {
     "name": "stdout",
     "output_type": "stream",
     "text": [
      "\n",
      "Job Name:  sagemaker-scikit-learn-2022-09-27-16-48-54-102\n",
      "Inputs:  [{'InputName': 'input-1', 'AppManaged': False, 'S3Input': {'S3Uri': 's3://sagemaker-us-east-1-441750884902/sagemaker-scikit-learn-2022-09-27-16-48-54-102/input/input-1/stock_df_preprocessed.csv', 'LocalPath': '/opt/ml/processing/input/data/', 'S3DataType': 'S3Prefix', 'S3InputMode': 'File', 'S3DataDistributionType': 'ShardedByS3Key', 'S3CompressionType': 'None'}}, {'InputName': 'code', 'AppManaged': False, 'S3Input': {'S3Uri': 's3://sagemaker-us-east-1-441750884902/sagemaker-scikit-learn-2022-09-27-16-48-54-102/input/code/prepare_data.py', 'LocalPath': '/opt/ml/processing/input/code', 'S3DataType': 'S3Prefix', 'S3InputMode': 'File', 'S3DataDistributionType': 'FullyReplicated', 'S3CompressionType': 'None'}}]\n",
      "Outputs:  [{'OutputName': 'sentiment-train', 'AppManaged': False, 'S3Output': {'S3Uri': 's3://sagemaker-us-east-1-441750884902/sagemaker-scikit-learn-2022-09-27-16-48-54-102/output/sentiment-train', 'LocalPath': '/opt/ml/processing/output/sentiment/train', 'S3UploadMode': 'EndOfJob'}}, {'OutputName': 'sentiment-validation', 'AppManaged': False, 'S3Output': {'S3Uri': 's3://sagemaker-us-east-1-441750884902/sagemaker-scikit-learn-2022-09-27-16-48-54-102/output/sentiment-validation', 'LocalPath': '/opt/ml/processing/output/sentiment/validation', 'S3UploadMode': 'EndOfJob'}}, {'OutputName': 'sentiment-test', 'AppManaged': False, 'S3Output': {'S3Uri': 's3://sagemaker-us-east-1-441750884902/sagemaker-scikit-learn-2022-09-27-16-48-54-102/output/sentiment-test', 'LocalPath': '/opt/ml/processing/output/sentiment/test', 'S3UploadMode': 'EndOfJob'}}]\n"
     ]
    }
   ],
   "source": [
    "from sagemaker.processing import ProcessingInput, ProcessingOutput\n",
    "\n",
    "updated_correctly = True\n",
    "if (updated_correctly):\n",
    "\n",
    "    processor.run(code='src/prepare_data.py',\n",
    "              inputs=[\n",
    "                    ProcessingInput(source=\"stock_df_preprocessed.csv\",\n",
    "                                    destination='/opt/ml/processing/input/data/',\n",
    "                                    s3_data_distribution_type='ShardedByS3Key')\n",
    "              ],\n",
    "              outputs=[\n",
    "                    ProcessingOutput(output_name='sentiment-train',\n",
    "                                     source='/opt/ml/processing/output/sentiment/train',\n",
    "                                     s3_upload_mode='EndOfJob'),\n",
    "                    ProcessingOutput(output_name='sentiment-validation',\n",
    "                                     source='/opt/ml/processing/output/sentiment/validation',\n",
    "                                     s3_upload_mode='EndOfJob'),\n",
    "                    ProcessingOutput(output_name='sentiment-test',\n",
    "                                     source='/opt/ml/processing/output/sentiment/test',\n",
    "                                     s3_upload_mode='EndOfJob')\n",
    "              ],\n",
    "              arguments=['--train-split-percentage', str(train_split_percentage),\n",
    "                         '--validation-split-percentage', str(validation_split_percentage),\n",
    "                         '--test-split-percentage', str(test_split_percentage),\n",
    "                         '--balance-dataset', str(balance_dataset),\n",
    "                         '--max-seq-length', str(max_seq_length),                         \n",
    "                         '--feature-store-offline-prefix', str(feature_store_offline_prefix),\n",
    "                         '--feature-group-name', str(feature_group_name)                         \n",
    "              ],\n",
    "              logs=True,\n",
    "              wait=False)\n",
    "\n",
    "else:\n",
    "    print('#######################################')\n",
    "    print('Please update the code correctly above.')\n",
    "    print('#######################################')    "
   ]
  },
  {
   "cell_type": "code",
   "execution_count": 328,
   "id": "e63a3892-81c2-4c07-9a62-f44c648b9501",
   "metadata": {},
   "outputs": [
    {
     "name": "stdout",
     "output_type": "stream",
     "text": [
      "Processing job name: sagemaker-scikit-learn-2022-09-27-16-48-54-102\n"
     ]
    }
   ],
   "source": [
    "scikit_processing_job_name = processor.jobs[-1].describe()['ProcessingJobName']\n",
    "\n",
    "print('Processing job name: {}'.format(scikit_processing_job_name))"
   ]
  },
  {
   "cell_type": "code",
   "execution_count": 329,
   "id": "8236e7f4-e0f7-4a42-ad1b-2e06b77adf1c",
   "metadata": {},
   "outputs": [
    {
     "name": "stdout",
     "output_type": "stream",
     "text": [
      "dict_keys(['ProcessingInputs', 'ProcessingOutputConfig', 'ProcessingJobName', 'ProcessingResources', 'StoppingCondition', 'AppSpecification', 'Environment', 'RoleArn', 'ProcessingJobArn', 'ProcessingJobStatus', 'LastModifiedTime', 'CreationTime', 'ResponseMetadata'])\n"
     ]
    }
   ],
   "source": [
    "print(processor.jobs[-1].describe().keys())"
   ]
  },
  {
   "cell_type": "code",
   "execution_count": 330,
   "id": "74640921-a083-4f1c-990f-968ba4b43a74",
   "metadata": {},
   "outputs": [
    {
     "name": "stdout",
     "output_type": "stream",
     "text": [
      "Processing job status: InProgress\n"
     ]
    }
   ],
   "source": [
    "### BEGIN SOLUTION - DO NOT delete this comment for grading purposes\n",
    "scikit_processing_job_status = processor.jobs[-1].describe()['ProcessingJobStatus'] # Replace None\n",
    "### END SOLUTION - DO NOT delete this comment for grading purposes\n",
    "print('Processing job status: {}'.format(scikit_processing_job_status))"
   ]
  },
  {
   "cell_type": "code",
   "execution_count": 331,
   "id": "0058aa6f-2958-4f85-a83e-948218e47dd9",
   "metadata": {},
   "outputs": [
    {
     "data": {
      "text/html": [
       "<b>Review <a target=\"blank\" href=\"https://console.aws.amazon.com/sagemaker/home?region=us-east-1#/processing-jobs/sagemaker-scikit-learn-2022-09-27-16-48-54-102\">processing job</a></b>"
      ],
      "text/plain": [
       "<IPython.core.display.HTML object>"
      ]
     },
     "metadata": {},
     "output_type": "display_data"
    }
   ],
   "source": [
    "from IPython.core.display import display, HTML\n",
    "\n",
    "display(HTML('<b>Review <a target=\"blank\" href=\"https://console.aws.amazon.com/sagemaker/home?region={}#/processing-jobs/{}\">processing job</a></b>'.format(region, scikit_processing_job_name)))"
   ]
  },
  {
   "cell_type": "code",
   "execution_count": 332,
   "id": "8ba12b7a-b38f-4a29-b79b-cb5fcdbd350c",
   "metadata": {},
   "outputs": [
    {
     "data": {
      "text/html": [
       "<b>Review <a target=\"blank\" href=\"https://console.aws.amazon.com/cloudwatch/home?region=us-east-1#logStream:group=/aws/sagemaker/ProcessingJobs;prefix=sagemaker-scikit-learn-2022-09-27-16-48-54-102;streamFilter=typeLogStreamPrefix\">CloudWatch logs</a> after about 5 minutes</b>"
      ],
      "text/plain": [
       "<IPython.core.display.HTML object>"
      ]
     },
     "metadata": {},
     "output_type": "display_data"
    }
   ],
   "source": [
    "from IPython.core.display import display, HTML\n",
    "\n",
    "display(HTML('<b>Review <a target=\"blank\" href=\"https://console.aws.amazon.com/cloudwatch/home?region={}#logStream:group=/aws/sagemaker/ProcessingJobs;prefix={};streamFilter=typeLogStreamPrefix\">CloudWatch logs</a> after about 5 minutes</b>'.format(region, scikit_processing_job_name)))"
   ]
  },
  {
   "cell_type": "code",
   "execution_count": 333,
   "id": "40960519-b209-4aed-a720-7ec9e7c0d4e8",
   "metadata": {},
   "outputs": [
    {
     "name": "stdout",
     "output_type": "stream",
     "text": [
      "........................................................................................................!CPU times: user 430 ms, sys: 50.6 ms, total: 481 ms\n",
      "Wall time: 8min 42s\n"
     ]
    }
   ],
   "source": [
    "%%time\n",
    "\n",
    "running_processor = sagemaker.processing.ProcessingJob.from_processing_name(\n",
    "    processing_job_name=scikit_processing_job_name,\n",
    "    sagemaker_session=sess\n",
    ")\n",
    "\n",
    "running_processor.wait(logs=False)"
   ]
  },
  {
   "cell_type": "code",
   "execution_count": 334,
   "id": "bca37d0d-aee8-464d-aca0-189c9116627b",
   "metadata": {},
   "outputs": [
    {
     "name": "stdout",
     "output_type": "stream",
     "text": [
      "s3://sagemaker-us-east-1-441750884902/sagemaker-scikit-learn-2022-09-27-16-48-54-102/output/sentiment-train\n",
      "s3://sagemaker-us-east-1-441750884902/sagemaker-scikit-learn-2022-09-27-16-48-54-102/output/sentiment-validation\n",
      "s3://sagemaker-us-east-1-441750884902/sagemaker-scikit-learn-2022-09-27-16-48-54-102/output/sentiment-test\n"
     ]
    }
   ],
   "source": [
    "processing_job_description = running_processor.describe()\n",
    "\n",
    "output_config = processing_job_description['ProcessingOutputConfig']\n",
    "for output in output_config['Outputs']:\n",
    "    if output['OutputName'] == 'sentiment-train':\n",
    "        processed_train_data_s3_uri = output['S3Output']['S3Uri']\n",
    "    if output['OutputName'] == 'sentiment-validation':\n",
    "        processed_validation_data_s3_uri = output['S3Output']['S3Uri']\n",
    "    if output['OutputName'] == 'sentiment-test':\n",
    "        processed_test_data_s3_uri = output['S3Output']['S3Uri']\n",
    "        \n",
    "print(processed_train_data_s3_uri)\n",
    "print(processed_validation_data_s3_uri)\n",
    "print(processed_test_data_s3_uri)"
   ]
  },
  {
   "cell_type": "code",
   "execution_count": 335,
   "id": "bcc20ff8-4d90-4f58-b9ab-2ec869b0bd2f",
   "metadata": {},
   "outputs": [
    {
     "name": "stdout",
     "output_type": "stream",
     "text": [
      "2022-09-27 16:57:33     312726 part-algo-1-stock_df_preprocessed.tsv\n"
     ]
    }
   ],
   "source": [
    "!aws s3 ls $processed_train_data_s3_uri/"
   ]
  },
  {
   "cell_type": "code",
   "execution_count": 336,
   "id": "8f29b622-65d3-4ebe-8954-9e8df6f31186",
   "metadata": {},
   "outputs": [
    {
     "name": "stdout",
     "output_type": "stream",
     "text": [
      "2022-09-27 16:57:33      17517 part-algo-1-stock_df_preprocessed.tsv\n"
     ]
    }
   ],
   "source": [
    "!aws s3 ls $processed_validation_data_s3_uri/"
   ]
  },
  {
   "cell_type": "code",
   "execution_count": 337,
   "id": "f854e467-29e8-4040-aa1c-28399ab89f2e",
   "metadata": {},
   "outputs": [
    {
     "name": "stdout",
     "output_type": "stream",
     "text": [
      "2022-09-27 16:57:33      17780 part-algo-1-stock_df_preprocessed.tsv\n"
     ]
    }
   ],
   "source": [
    "!aws s3 ls $processed_test_data_s3_uri/"
   ]
  },
  {
   "cell_type": "code",
   "execution_count": 338,
   "id": "4a66d043-46c8-4c82-8ad3-4d87065ac754",
   "metadata": {},
   "outputs": [
    {
     "name": "stdout",
     "output_type": "stream",
     "text": [
      "download: s3://sagemaker-us-east-1-441750884902/sagemaker-scikit-learn-2022-09-27-16-48-54-102/output/sentiment-train/part-algo-1-stock_df_preprocessed.tsv to balanced/sentiment-train/part-algo-1-stock_df_preprocessed.tsv\n",
      "download: s3://sagemaker-us-east-1-441750884902/sagemaker-scikit-learn-2022-09-27-16-48-54-102/output/sentiment-validation/part-algo-1-stock_df_preprocessed.tsv to balanced/sentiment-validation/part-algo-1-stock_df_preprocessed.tsv\n",
      "download: s3://sagemaker-us-east-1-441750884902/sagemaker-scikit-learn-2022-09-27-16-48-54-102/output/sentiment-test/part-algo-1-stock_df_preprocessed.tsv to balanced/sentiment-test/part-algo-1-stock_df_preprocessed.tsv\n"
     ]
    }
   ],
   "source": [
    "!aws s3 cp $processed_train_data_s3_uri/part-algo-1-stock_df_preprocessed.tsv ./balanced/sentiment-train/\n",
    "!aws s3 cp $processed_validation_data_s3_uri/part-algo-1-stock_df_preprocessed.tsv ./balanced/sentiment-validation/\n",
    "!aws s3 cp $processed_test_data_s3_uri/part-algo-1-stock_df_preprocessed.tsv ./balanced/sentiment-test/"
   ]
  },
  {
   "cell_type": "code",
   "execution_count": 339,
   "id": "c7774571-d36e-4f4e-af11-cc29af61e303",
   "metadata": {},
   "outputs": [
    {
     "name": "stdout",
     "output_type": "stream",
     "text": [
      "review_id\tsentiment\tlabel_id\tinput_ids\treview_body\tdate\n",
      "1828\t0\t1\t[0, 13963, 787, 12105, 24530, 10618, 4, 68, 22687, 16, 41, 21991, 8248, 331, 729, 12, 8007, 23861, 3944, 4, 40449, 31860, 101, 42, 30, 49, 849, 38193, 5532, 433, 1076, 2]\tRT @user Fake outrage. $FB is an invaluable Deep State election-interference tool. Tantrums like this by their #FakeNews media al…\t2022-09-27T16:57:30Z\n",
      "4031\t0\t1\t[0, 133, 3871, 12, 4301, 1732, 9, 5, 208, 947, 3914, 131, 510, 1764, 16, 12564, 5, 2927, 12, 4301, 1965, 30, 3667, 504, 207, 81, 5, 375, 130, 107, 6, 2]\tThe equal-weight version of the S&amp;P 500 is trailing the cap-weight index by roughly 18% over the past three years, an indication of just how much this market is being driven by a few mega-caps. #stocks #markets #economy #investing #financialservices http\t2022-09-27T16:57:30Z\n",
      "1032\t1\t2\t[0, 13963, 787, 12105, 68, 597, 111, 2493, 35, 83, 35963, 3412, 590, 755, 20785, 1571, 2265, 1033, 19469, 4, 2054, 849, 506, 13598, 849, 41108, 849, 28310, 219, 2, 1, 1]\tRT @user $F - Ford: A Cheap Stock With High Liquidity Brings Opportunity. http #finance #stocks #economy\t2022-09-27T16:57:30Z\n",
      "366\t-1\t0\t[0, 13963, 787, 12105, 68, 250, 591, 574, 14454, 624, 986, 183, 18, 1186, 71, 28369, 1852, 35, 2054, 35133, 849, 250, 591, 574, 849, 20770, 2, 1, 1, 1, 1, 1]\tRT @user $AAPL closes within previous day's range after lackluster session: http Neutral #AAPL #Apple\t2022-09-27T16:57:30Z\n"
     ]
    }
   ],
   "source": [
    "!head -n 5 ./balanced/sentiment-train/part-algo-1-stock_df_preprocessed.tsv"
   ]
  },
  {
   "cell_type": "code",
   "execution_count": 340,
   "id": "e9fa9d5d-399c-4f78-bd77-fbef0ce5e575",
   "metadata": {},
   "outputs": [
    {
     "name": "stdout",
     "output_type": "stream",
     "text": [
      "review_id\tsentiment\tlabel_id\tinput_ids\treview_body\tdate\n",
      "3709\t0\t1\t[0, 13963, 787, 12105, 6035, 14424, 826, 68, 2562, 534, 1000, 8753, 5480, 5833, 9, 68, 176, 6, 10056, 6, 34916, 13, 1234, 10830, 9, 2760, 590, 8675, 27448, 9, 68, 2]\tRT @user Alliance Creative Group $ACGX Reports Total Revenue of $2,350,457 for First Quarter of 2020 With Gross Profit of $576,03…\t2022-09-27T16:57:30Z\n",
      "8\t-1\t0\t[0, 13963, 787, 12105, 20, 849, 33194, 121, 4, 104, 4, 188, 11109, 414, 34, 10, 132, 183, 16396, 6, 53, 794, 277, 5513, 2991, 849, 32919, 1849, 188, 11109, 414, 2]\tRT @user The #CDC U.S. New Case data has a 2 day lag, but saw another encouraging decline #WHO Global New Case data still flat at the…\t2022-09-27T16:57:30Z\n",
      "479\t-1\t0\t[0, 13963, 787, 12105, 255, 40325, 7224, 15513, 43044, 68, 347, 6222, 1437, 50118, 713, 1326, 1099, 6, 1331, 23, 68, 2466, 4, 2890, 1437, 50118, 21031, 27448, 35, 68, 4432, 2]\t\"RT @user TARGET ACQUIRED $CMS \n",
      "This looks bad, sell at $60.29 \n"
     ]
    }
   ],
   "source": [
    "!head -n 5 ./balanced/sentiment-validation/part-algo-1-stock_df_preprocessed.tsv"
   ]
  },
  {
   "cell_type": "code",
   "execution_count": 341,
   "id": "6980237a-13b5-4c22-b33d-8dc6646b1ce3",
   "metadata": {},
   "outputs": [
    {
     "name": "stdout",
     "output_type": "stream",
     "text": [
      "review_id\tsentiment\tlabel_id\tinput_ids\treview_body\tdate\n",
      "515\t-1\t0\t[0, 1629, 24249, 166, 33, 12333, 10, 20228, 1136, 11, 5, 22221, 39994, 13, 8900, 2839, 3777, 6, 603, 4, 23, 1437, 2054, 5423, 15417, 4526, 5123, 13, 55, 335, 50118, 2]\t\"$mu We have detected a noticeable fall in the Zeitgeist for Micron Technology, Inc. at  http DataSwarm Markets for more information\n",
      "#STOCKS #NASDAQ\n",
      "DataSwarm ref: 102990\"\t2022-09-27T16:57:30Z\n",
      "898\t-1\t0\t[0, 13963, 787, 12105, 68, 1872, 2560, 388, 630, 75, 33, 203, 55, 434, 801, 6, 24, 18, 478, 5, 9920, 38917, 50, 34, 24, 42514, 7586, 50118, 50118, 26615, 66, 2]\t\"RT @user $tsla stock doesn't have much more growth potential, it's hit the ceiling..... or has it..........\n"
     ]
    }
   ],
   "source": [
    "!head -n 5 ./balanced/sentiment-test/part-algo-1-stock_df_preprocessed.tsv"
   ]
  },
  {
   "cell_type": "markdown",
   "id": "e83dac7f-2607-4e6d-a107-7e3eb35e4611",
   "metadata": {},
   "source": [
    "# Model Training"
   ]
  },
  {
   "cell_type": "code",
   "execution_count": 342,
   "id": "b37a37cf-e85c-40e3-8646-aa70e2849784",
   "metadata": {},
   "outputs": [],
   "source": [
    "s3_input_train_data = sagemaker.inputs.TrainingInput(\n",
    "    ### BEGIN SOLUTION - DO NOT delete this comment for grading purposes\n",
    "    s3_data=processed_train_data_s3_uri # Replace None\n",
    "    ### END SOLUTION - DO NOT delete this comment for grading purposes\n",
    ")"
   ]
  },
  {
   "cell_type": "code",
   "execution_count": 343,
   "id": "6c7f4bb4-dcea-4d7f-b699-c0ee5819380f",
   "metadata": {},
   "outputs": [],
   "source": [
    "s3_input_validation_data = sagemaker.inputs.TrainingInput(\n",
    "    ### BEGIN SOLUTION - DO NOT delete this comment for grading purposes\n",
    "    s3_data=processed_validation_data_s3_uri # Replace None\n",
    "    ### END SOLUTION - DO NOT delete this comment for grading purposes\n",
    ")"
   ]
  },
  {
   "cell_type": "code",
   "execution_count": 344,
   "id": "af42c3b3-3e83-4d63-b045-4f3870d93f86",
   "metadata": {},
   "outputs": [],
   "source": [
    "data_channels = {\n",
    "    ### BEGIN SOLUTION - DO NOT delete this comment for grading purposes\n",
    "    'train': s3_input_train_data, # Replace None\n",
    "    'validation': s3_input_validation_data # Replace None\n",
    "    ### END SOLUTION - DO NOT delete this comment for grading purposes\n",
    "}"
   ]
  },
  {
   "cell_type": "markdown",
   "id": "55bf193b-c900-40fd-9c8f-9dc4210f684e",
   "metadata": {},
   "source": [
    "<a name='c2w2-1.2.'></a>\n",
    "### Configure model hyper-parameters"
   ]
  },
  {
   "cell_type": "code",
   "execution_count": null,
   "id": "02080ce4-cecf-456f-9ed6-43f7216752a9",
   "metadata": {},
   "outputs": [],
   "source": [
    "max_seq_length=128 # maximum number of input tokens passed to BERT model\n",
    "freeze_bert_layer=False # specifies the depth of training within the network\n",
    "epochs=100\n",
    "learning_rate=2e-5\n",
    "train_batch_size=256\n",
    "train_steps_per_epoch=50\n",
    "validation_batch_size=8\n",
    "validation_steps_per_epoch=50\n",
    "seed=42\n",
    "run_validation=True\n",
    "\n",
    "train_instance_count=1\n",
    "train_instance_type= 'ml.g4dn.xlarge' # gpu instance\n",
    "train_volume_size=256 # GB, storage to store input and output during training\n",
    "input_mode='File' # SageMaker copies the training dataset from the S3 location to a local directory"
   ]
  },
  {
   "cell_type": "code",
   "execution_count": 485,
   "id": "d12ec148-5d1b-4b42-9f7b-49a6baa49dd3",
   "metadata": {},
   "outputs": [],
   "source": [
    "max_seq_length=32 #128 # maximum number of input tokens passed to BERT model\n",
    "freeze_bert_layer=True#False # specifies the depth of training within the network\n",
    "epochs=100\n",
    "learning_rate=1e-3#2e-5\n",
    "train_batch_size=64#256\n",
    "train_steps_per_epoch=50\n",
    "validation_batch_size=8\n",
    "validation_steps_per_epoch=50\n",
    "seed=42\n",
    "run_validation=True\n",
    "\n",
    "train_instance_count=1\n",
    "train_instance_type= 'ml.g4dn.xlarge'#'ml.c5.9xlarge'\n",
    "train_volume_size=64 #256\n",
    "input_mode='File'"
   ]
  },
  {
   "cell_type": "code",
   "execution_count": 486,
   "id": "b3ec89e6-ddec-4f88-bb82-5e4db6ab12f5",
   "metadata": {},
   "outputs": [],
   "source": [
    "hyperparameters={\n",
    "    'max_seq_length': max_seq_length,\n",
    "    'freeze_bert_layer': freeze_bert_layer,\n",
    "    'epochs': epochs,\n",
    "    'learning_rate': learning_rate,\n",
    "    'train_batch_size': train_batch_size,\n",
    "    'train_steps_per_epoch': train_steps_per_epoch,\n",
    "    'validation_batch_size': validation_batch_size,\n",
    "    'validation_steps_per_epoch': validation_steps_per_epoch,    \n",
    "    'seed': seed,\n",
    "    'run_validation': run_validation\n",
    "}"
   ]
  },
  {
   "cell_type": "markdown",
   "id": "b5bd637d-f0b0-4a7d-9914-f57bc2d6eb3d",
   "metadata": {},
   "source": [
    "### HPO"
   ]
  },
  {
   "cell_type": "code",
   "execution_count": 487,
   "id": "1b982467-02d7-4ecd-9f89-78bcfe9dc51c",
   "metadata": {},
   "outputs": [],
   "source": [
    "from sagemaker.tuner import (\n",
    "    IntegerParameter,\n",
    "    CategoricalParameter,\n",
    "    ContinuousParameter,\n",
    "    HyperparameterTuner,\n",
    ")\n",
    "\n",
    "hyperparameter_ranges = {\n",
    "    \"learning_rate\": ContinuousParameter(0.001, 0.1),\n",
    "    \"train_batch_size\": CategoricalParameter([32, 64, 128, 256]), # here the hyperparameter names must be the same as the above in the dict\n",
    "}"
   ]
  },
  {
   "cell_type": "code",
   "execution_count": 489,
   "id": "f6a85f44-98d4-4138-baeb-d4b0ade50980",
   "metadata": {},
   "outputs": [],
   "source": [
    "metric_definitions = [\n",
    "     {'Name': 'validation:loss', 'Regex': 'val_loss: ([0-9.]+)'},\n",
    "     {'Name': 'validation:accuracy', 'Regex': 'val_acc: ([0-9.]+)'},\n",
    "]"
   ]
  },
  {
   "cell_type": "code",
   "execution_count": 495,
   "id": "eb50cce7-1723-48c5-af6b-7a460e85f39b",
   "metadata": {},
   "outputs": [],
   "source": [
    "from sagemaker.pytorch import PyTorch as PyTorchEstimator\n",
    "\n",
    "estimator = PyTorchEstimator(\n",
    "    entry_point='train.py', # seperate file defines the model\n",
    "    source_dir='src', # folder location to fetch the file\n",
    "    role=role,\n",
    "    instance_count=train_instance_count, # 1 \n",
    "    instance_type=train_instance_type, # gpu instance: 'ml.g4dn.xlarge'\n",
    "    volume_size=train_volume_size, # GB\n",
    "    py_version='py3', # python version\n",
    "    framework_version='1.6.0', # PyTorch Version\n",
    "    hyperparameters=hyperparameters,\n",
    "    metric_definitions=metric_definitions,\n",
    "    input_mode=input_mode # file\n",
    ")"
   ]
  },
  {
   "cell_type": "code",
   "execution_count": 488,
   "id": "f247570f-bab1-497f-a977-433e179c5d64",
   "metadata": {},
   "outputs": [],
   "source": [
    "objective_metric_name = \"validation:loss\" # CrossEntropyLoss\n",
    "objective_type = \"Minimize\"\n",
    "metric_definitions = [{\"Name\": \"validation:loss\", \"Regex\": \"val_loss: ([0-9.]+)\"}]"
   ]
  },
  {
   "cell_type": "code",
   "execution_count": 496,
   "id": "e9571729-e24c-45fb-a4b5-da4ba548860d",
   "metadata": {},
   "outputs": [],
   "source": [
    "tuner = HyperparameterTuner(\n",
    "    estimator, # training estimator\n",
    "    objective_metric_name,\n",
    "    hyperparameter_ranges,\n",
    "    metric_definitions,\n",
    "    max_jobs=9, # how many HPO rounds to try\n",
    "    max_parallel_jobs=1, # revise from 3 to 1, otherwise there is error\n",
    "    objective_type=objective_type, # Minimize\n",
    ")"
   ]
  },
  {
   "cell_type": "code",
   "execution_count": 497,
   "id": "75d1048d-743f-40cb-8dad-c230f0aa1bab",
   "metadata": {},
   "outputs": [],
   "source": [
    "tuner.fit(\n",
    "    inputs=data_channels # defines training and validation data location\n",
    ")"
   ]
  },
  {
   "cell_type": "code",
   "execution_count": 499,
   "id": "981a81cf-bdfd-4c4c-98ac-e85425d5060e",
   "metadata": {},
   "outputs": [],
   "source": [
    "import boto3\n",
    "import sagemaker\n",
    "import os\n",
    "\n",
    "region = boto3.Session().region_name\n",
    "sage_client = boto3.Session().client(\"sagemaker\")"
   ]
  },
  {
   "cell_type": "code",
   "execution_count": 500,
   "id": "acf746d6-ef05-4361-8afe-1d9cd639efd4",
   "metadata": {},
   "outputs": [],
   "source": [
    "tuning_job_name = \"pytorch-training-221002-2031\""
   ]
  },
  {
   "cell_type": "code",
   "execution_count": 509,
   "id": "4c5fe029-d877-4620-a495-0b8f3bc0386a",
   "metadata": {},
   "outputs": [
    {
     "name": "stdout",
     "output_type": "stream",
     "text": [
      "9 training jobs have completed\n"
     ]
    }
   ],
   "source": [
    "# run this cell to check current status of hyperparameter tuning job\n",
    "tuning_job_result = sage_client.describe_hyper_parameter_tuning_job(\n",
    "    HyperParameterTuningJobName=tuning_job_name\n",
    ")\n",
    "\n",
    "status = tuning_job_result[\"HyperParameterTuningJobStatus\"]\n",
    "if status != \"Completed\":\n",
    "    print(\"Reminder: the tuning job has not been completed.\")\n",
    "\n",
    "job_count = tuning_job_result[\"TrainingJobStatusCounters\"][\"Completed\"]\n",
    "print(\"%d training jobs have completed\" % job_count)\n",
    "\n",
    "objective = tuning_job_result[\"HyperParameterTuningJobConfig\"][\"HyperParameterTuningJobObjective\"]\n",
    "is_minimize = objective[\"Type\"] != \"Maximize\"\n",
    "objective_name = objective[\"MetricName\"]"
   ]
  },
  {
   "cell_type": "code",
   "execution_count": 510,
   "id": "2fb80341-d675-4eab-b94a-6f9973102581",
   "metadata": {},
   "outputs": [
    {
     "name": "stdout",
     "output_type": "stream",
     "text": [
      "Best model found so far:\n",
      "{'CreationTime': datetime.datetime(2022, 10, 2, 22, 28, 34, tzinfo=tzlocal()),\n",
      " 'FinalHyperParameterTuningJobObjectiveMetric': {'MetricName': 'validation:loss',\n",
      "                                                 'Value': 0.9599999785423279},\n",
      " 'ObjectiveStatus': 'Succeeded',\n",
      " 'TrainingEndTime': datetime.datetime(2022, 10, 2, 22, 41, 12, tzinfo=tzlocal()),\n",
      " 'TrainingJobArn': 'arn:aws:sagemaker:us-east-1:441750884902:training-job/pytorch-training-221002-2031-009-42e16613',\n",
      " 'TrainingJobName': 'pytorch-training-221002-2031-009-42e16613',\n",
      " 'TrainingJobStatus': 'Completed',\n",
      " 'TrainingStartTime': datetime.datetime(2022, 10, 2, 22, 28, 39, tzinfo=tzlocal()),\n",
      " 'TunedHyperParameters': {'learning_rate': '0.005428759861554395',\n",
      "                          'train_batch_size': '\"256\"'}}\n"
     ]
    }
   ],
   "source": [
    "from pprint import pprint\n",
    "\n",
    "if tuning_job_result.get(\"BestTrainingJob\", None):\n",
    "    print(\"Best model found so far:\")\n",
    "    pprint(tuning_job_result[\"BestTrainingJob\"])\n",
    "else:\n",
    "    print(\"No training jobs have reported results yet.\")"
   ]
  },
  {
   "cell_type": "code",
   "execution_count": 511,
   "id": "c0ff3f63-0df3-4d87-a6b9-15b76eb0ba00",
   "metadata": {},
   "outputs": [
    {
     "name": "stdout",
     "output_type": "stream",
     "text": [
      "Number of training jobs with valid objective: 9\n",
      "{'lowest': 0.9599999785423279, 'highest': 5.400000095367432}\n"
     ]
    },
    {
     "data": {
      "text/html": [
       "<div>\n",
       "<style scoped>\n",
       "    .dataframe tbody tr th:only-of-type {\n",
       "        vertical-align: middle;\n",
       "    }\n",
       "\n",
       "    .dataframe tbody tr th {\n",
       "        vertical-align: top;\n",
       "    }\n",
       "\n",
       "    .dataframe thead th {\n",
       "        text-align: right;\n",
       "    }\n",
       "</style>\n",
       "<table border=\"1\" class=\"dataframe\">\n",
       "  <thead>\n",
       "    <tr style=\"text-align: right;\">\n",
       "      <th></th>\n",
       "      <th>learning_rate</th>\n",
       "      <th>train_batch_size</th>\n",
       "      <th>TrainingJobName</th>\n",
       "      <th>TrainingJobStatus</th>\n",
       "      <th>FinalObjectiveValue</th>\n",
       "      <th>TrainingStartTime</th>\n",
       "      <th>TrainingEndTime</th>\n",
       "      <th>TrainingElapsedTimeSeconds</th>\n",
       "    </tr>\n",
       "  </thead>\n",
       "  <tbody>\n",
       "    <tr>\n",
       "      <th>0</th>\n",
       "      <td>0.005429</td>\n",
       "      <td>\"256\"</td>\n",
       "      <td>pytorch-training-221002-2031-009-42e16613</td>\n",
       "      <td>Completed</td>\n",
       "      <td>0.96</td>\n",
       "      <td>2022-10-02 22:28:39+00:00</td>\n",
       "      <td>2022-10-02 22:41:12+00:00</td>\n",
       "      <td>753.0</td>\n",
       "    </tr>\n",
       "    <tr>\n",
       "      <th>1</th>\n",
       "      <td>0.002078</td>\n",
       "      <td>\"64\"</td>\n",
       "      <td>pytorch-training-221002-2031-008-d0ef2e79</td>\n",
       "      <td>Completed</td>\n",
       "      <td>0.96</td>\n",
       "      <td>2022-10-02 22:14:22+00:00</td>\n",
       "      <td>2022-10-02 22:27:20+00:00</td>\n",
       "      <td>778.0</td>\n",
       "    </tr>\n",
       "    <tr>\n",
       "      <th>2</th>\n",
       "      <td>0.004293</td>\n",
       "      <td>\"32\"</td>\n",
       "      <td>pytorch-training-221002-2031-007-e3975c2f</td>\n",
       "      <td>Completed</td>\n",
       "      <td>1.03</td>\n",
       "      <td>2022-10-02 22:00:23+00:00</td>\n",
       "      <td>2022-10-02 22:13:41+00:00</td>\n",
       "      <td>798.0</td>\n",
       "    </tr>\n",
       "    <tr>\n",
       "      <th>3</th>\n",
       "      <td>0.004144</td>\n",
       "      <td>\"32\"</td>\n",
       "      <td>pytorch-training-221002-2031-006-29caacc2</td>\n",
       "      <td>Completed</td>\n",
       "      <td>1.10</td>\n",
       "      <td>2022-10-02 21:45:46+00:00</td>\n",
       "      <td>2022-10-02 21:59:04+00:00</td>\n",
       "      <td>798.0</td>\n",
       "    </tr>\n",
       "    <tr>\n",
       "      <th>7</th>\n",
       "      <td>0.030127</td>\n",
       "      <td>\"64\"</td>\n",
       "      <td>pytorch-training-221002-2031-002-646b59f9</td>\n",
       "      <td>Completed</td>\n",
       "      <td>1.21</td>\n",
       "      <td>2022-10-02 20:48:44+00:00</td>\n",
       "      <td>2022-10-02 21:01:42+00:00</td>\n",
       "      <td>778.0</td>\n",
       "    </tr>\n",
       "    <tr>\n",
       "      <th>6</th>\n",
       "      <td>0.048721</td>\n",
       "      <td>\"128\"</td>\n",
       "      <td>pytorch-training-221002-2031-003-50ec419b</td>\n",
       "      <td>Completed</td>\n",
       "      <td>1.61</td>\n",
       "      <td>2022-10-02 21:03:02+00:00</td>\n",
       "      <td>2022-10-02 21:16:00+00:00</td>\n",
       "      <td>778.0</td>\n",
       "    </tr>\n",
       "    <tr>\n",
       "      <th>8</th>\n",
       "      <td>0.014246</td>\n",
       "      <td>\"32\"</td>\n",
       "      <td>pytorch-training-221002-2031-001-3d0f50cf</td>\n",
       "      <td>Completed</td>\n",
       "      <td>1.84</td>\n",
       "      <td>2022-10-02 20:33:07+00:00</td>\n",
       "      <td>2022-10-02 20:48:30+00:00</td>\n",
       "      <td>923.0</td>\n",
       "    </tr>\n",
       "    <tr>\n",
       "      <th>4</th>\n",
       "      <td>0.086317</td>\n",
       "      <td>\"128\"</td>\n",
       "      <td>pytorch-training-221002-2031-005-fe4bc0c4</td>\n",
       "      <td>Completed</td>\n",
       "      <td>3.69</td>\n",
       "      <td>2022-10-02 21:31:31+00:00</td>\n",
       "      <td>2022-10-02 21:44:24+00:00</td>\n",
       "      <td>773.0</td>\n",
       "    </tr>\n",
       "    <tr>\n",
       "      <th>5</th>\n",
       "      <td>0.059723</td>\n",
       "      <td>\"64\"</td>\n",
       "      <td>pytorch-training-221002-2031-004-2faf59b1</td>\n",
       "      <td>Completed</td>\n",
       "      <td>5.40</td>\n",
       "      <td>2022-10-02 21:17:18+00:00</td>\n",
       "      <td>2022-10-02 21:30:18+00:00</td>\n",
       "      <td>780.0</td>\n",
       "    </tr>\n",
       "  </tbody>\n",
       "</table>\n",
       "</div>"
      ],
      "text/plain": [
       "   learning_rate train_batch_size                            TrainingJobName  \\\n",
       "0       0.005429            \"256\"  pytorch-training-221002-2031-009-42e16613   \n",
       "1       0.002078             \"64\"  pytorch-training-221002-2031-008-d0ef2e79   \n",
       "2       0.004293             \"32\"  pytorch-training-221002-2031-007-e3975c2f   \n",
       "3       0.004144             \"32\"  pytorch-training-221002-2031-006-29caacc2   \n",
       "7       0.030127             \"64\"  pytorch-training-221002-2031-002-646b59f9   \n",
       "6       0.048721            \"128\"  pytorch-training-221002-2031-003-50ec419b   \n",
       "8       0.014246             \"32\"  pytorch-training-221002-2031-001-3d0f50cf   \n",
       "4       0.086317            \"128\"  pytorch-training-221002-2031-005-fe4bc0c4   \n",
       "5       0.059723             \"64\"  pytorch-training-221002-2031-004-2faf59b1   \n",
       "\n",
       "  TrainingJobStatus  FinalObjectiveValue         TrainingStartTime  \\\n",
       "0         Completed                 0.96 2022-10-02 22:28:39+00:00   \n",
       "1         Completed                 0.96 2022-10-02 22:14:22+00:00   \n",
       "2         Completed                 1.03 2022-10-02 22:00:23+00:00   \n",
       "3         Completed                 1.10 2022-10-02 21:45:46+00:00   \n",
       "7         Completed                 1.21 2022-10-02 20:48:44+00:00   \n",
       "6         Completed                 1.61 2022-10-02 21:03:02+00:00   \n",
       "8         Completed                 1.84 2022-10-02 20:33:07+00:00   \n",
       "4         Completed                 3.69 2022-10-02 21:31:31+00:00   \n",
       "5         Completed                 5.40 2022-10-02 21:17:18+00:00   \n",
       "\n",
       "            TrainingEndTime  TrainingElapsedTimeSeconds  \n",
       "0 2022-10-02 22:41:12+00:00                       753.0  \n",
       "1 2022-10-02 22:27:20+00:00                       778.0  \n",
       "2 2022-10-02 22:13:41+00:00                       798.0  \n",
       "3 2022-10-02 21:59:04+00:00                       798.0  \n",
       "7 2022-10-02 21:01:42+00:00                       778.0  \n",
       "6 2022-10-02 21:16:00+00:00                       778.0  \n",
       "8 2022-10-02 20:48:30+00:00                       923.0  \n",
       "4 2022-10-02 21:44:24+00:00                       773.0  \n",
       "5 2022-10-02 21:30:18+00:00                       780.0  "
      ]
     },
     "execution_count": 511,
     "metadata": {},
     "output_type": "execute_result"
    }
   ],
   "source": [
    "import pandas as pd\n",
    "\n",
    "tuner = sagemaker.HyperparameterTuningJobAnalytics(tuning_job_name)\n",
    "\n",
    "full_df = tuner.dataframe()\n",
    "\n",
    "if len(full_df) > 0:\n",
    "    df = full_df[full_df[\"FinalObjectiveValue\"] > -float(\"inf\")]\n",
    "    if len(df) > 0:\n",
    "        df = df.sort_values(\"FinalObjectiveValue\", ascending=is_minimize)\n",
    "        print(\"Number of training jobs with valid objective: %d\" % len(df))\n",
    "        print({\"lowest\": min(df[\"FinalObjectiveValue\"]), \"highest\": max(df[\"FinalObjectiveValue\"])})\n",
    "        pd.set_option(\"display.max_colwidth\", None)  # Don't truncate TrainingJobName\n",
    "    else:\n",
    "        print(\"No training jobs have reported valid results yet.\")\n",
    "\n",
    "df"
   ]
  },
  {
   "cell_type": "markdown",
   "id": "cda8d07a-b7c5-4f41-9947-175a3d55f96d",
   "metadata": {},
   "source": [
    "# SageMaker Debugger with Optimized Hyperparameters"
   ]
  },
  {
   "cell_type": "code",
   "execution_count": 512,
   "id": "5d2d5a7c-8527-4efb-9434-1b026ae21b64",
   "metadata": {},
   "outputs": [],
   "source": [
    "max_seq_length=32 #128 # maximum number of input tokens passed to BERT model\n",
    "freeze_bert_layer=True#False # specifies the depth of training within the network\n",
    "epochs=100\n",
    "learning_rate=0.005429 # from HPO\n",
    "train_batch_size=256\n",
    "train_steps_per_epoch=50\n",
    "validation_batch_size=8\n",
    "validation_steps_per_epoch=50\n",
    "seed=42\n",
    "run_validation=True\n",
    "\n",
    "train_instance_count=1\n",
    "train_instance_type= 'ml.g4dn.xlarge'#'ml.c5.9xlarge'\n",
    "train_volume_size=64 #256\n",
    "input_mode='File'"
   ]
  },
  {
   "cell_type": "code",
   "execution_count": 513,
   "id": "2ee0e241-1dce-49cd-93e9-28d05ee2d6c8",
   "metadata": {},
   "outputs": [],
   "source": [
    "hyperparameters={\n",
    "    'max_seq_length': max_seq_length,\n",
    "    'freeze_bert_layer': freeze_bert_layer,\n",
    "    'epochs': epochs,\n",
    "    'learning_rate': learning_rate,\n",
    "    'train_batch_size': train_batch_size,\n",
    "    'train_steps_per_epoch': train_steps_per_epoch,\n",
    "    'validation_batch_size': validation_batch_size,\n",
    "    'validation_steps_per_epoch': validation_steps_per_epoch,    \n",
    "    'seed': seed,\n",
    "    'run_validation': run_validation\n",
    "}"
   ]
  },
  {
   "cell_type": "markdown",
   "id": "1667b80d-a4f0-40d8-ab19-3d25f4fb6b35",
   "metadata": {
    "tags": []
   },
   "source": [
    "<a name='c2w2-1.4.'></a>\n",
    "## Setup Debugger and Profiler\n",
    "\n",
    "Amazon SageMaker Debugger can be used to profile machine learning models, helping to identify and fix training issues caused by hardware resource usage. Setting some parameters in the SageMaker estimator, without any change to the training code, you can enable the collection of infrastructure and model metrics such as: CPU and GPU, RAM and GPU RAM, data loading time, time spent in ML operators running on CPU and GPU, distributed training metrics and many more. In addition, you can visualize how much time is spent in different phases, such as preprocessing, training loop, and postprocessing. If needed, you can drill down on each training epoch, and even on each function in your training script.\n",
    "    \n",
    "Define Debugger Rules as described here:  https://docs.aws.amazon.com/sagemaker/latest/dg/debugger-built-in-rules.html"
   ]
  },
  {
   "cell_type": "code",
   "execution_count": 539,
   "id": "a1bd5f1e-af22-4390-9efa-9ac3c97d6626",
   "metadata": {},
   "outputs": [],
   "source": [
    "from sagemaker.debugger import Rule, ProfilerRule, rule_configs\n",
    "from sagemaker.debugger import DebuggerHookConfig\n",
    "from sagemaker.debugger import ProfilerConfig, FrameworkProfile"
   ]
  },
  {
   "cell_type": "code",
   "execution_count": 540,
   "id": "3bad9b2c-6079-4225-a32b-2f734300ce35",
   "metadata": {},
   "outputs": [],
   "source": [
    "debugger_hook_config = DebuggerHookConfig( # pull tensors data out of training jobs and save them\n",
    "    s3_output_path='s3://{}'.format(bucket),\n",
    ")"
   ]
  },
  {
   "cell_type": "code",
   "execution_count": 541,
   "id": "99ba5d55-1be5-447d-880f-97f50e4806df",
   "metadata": {},
   "outputs": [],
   "source": [
    "from sagemaker.debugger import ProfilerConfig, FrameworkProfile\n",
    "\n",
    "profiler_config = ProfilerConfig( # collection frequency, duration\n",
    "    system_monitor_interval_millis=500,\n",
    "    framework_profile_params=FrameworkProfile(local_path=\"/opt/ml/output/profiler/\", \n",
    "                                              start_step=0, num_steps=20) # start_step, num_steps, through test, I think they mean mins\n",
    ")\n",
    "\n",
    "# https://us-east-1.console.aws.amazon.com/sagemaker/home?region=us-east-1#/jobs/pytorch-training-2022-10-04-20-54-52-157\n",
    "# the plot in \"Monitor\" shows 20:55 to 21:15 which is exactly 20 mins"
   ]
  },
  {
   "cell_type": "code",
   "execution_count": 542,
   "id": "4d8841f0-c642-49e5-a045-ce838e8938a5",
   "metadata": {},
   "outputs": [],
   "source": [
    "rules=[ProfilerRule.sagemaker(rule_configs.ProfilerReport())] # how to consume the pulled data"
   ]
  },
  {
   "cell_type": "code",
   "execution_count": 543,
   "id": "e16c136a-0ac2-4b21-8275-de9defb5c15c",
   "metadata": {},
   "outputs": [],
   "source": [
    "from sagemaker.pytorch import PyTorch as PyTorchEstimator\n",
    "\n",
    "estimator = PyTorchEstimator(\n",
    "    entry_point='train.py', # file defines the model\n",
    "    source_dir='src', # folder location to fetch the file\n",
    "    role=role,\n",
    "    instance_count=train_instance_count, # 1\n",
    "    instance_type=train_instance_type, # gpu instance: 'ml.g4dn.xlarge'\n",
    "    volume_size=train_volume_size, # GB\n",
    "    py_version='py3', # python version\n",
    "    framework_version='1.6.0', # PyTorch Version\n",
    "    hyperparameters=hyperparameters,\n",
    "    metric_definitions=metric_definitions,\n",
    "    input_mode=input_mode, # file: load data from s3\n",
    "    debugger_hook_config=debugger_hook_config, # pull tensors data out of training jobs and save them\n",
    "    profiler_config=profiler_config, # collection frequency, duration\n",
    "    rules=rules # how to consume the pulled data\n",
    ")"
   ]
  },
  {
   "cell_type": "code",
   "execution_count": 544,
   "id": "271521e9-ade1-4101-b28c-610edf69e73b",
   "metadata": {},
   "outputs": [],
   "source": [
    "estimator.fit(\n",
    "    inputs=data_channels, \n",
    "    wait=False\n",
    ")"
   ]
  },
  {
   "cell_type": "code",
   "execution_count": 545,
   "id": "8f0d3542-383b-41e8-a2bf-682db62aaa7b",
   "metadata": {},
   "outputs": [
    {
     "name": "stdout",
     "output_type": "stream",
     "text": [
      "Training Job name: pytorch-training-2022-10-04-20-54-52-157\n"
     ]
    }
   ],
   "source": [
    "training_job_name = estimator.latest_training_job.name\n",
    "\n",
    "print('Training Job name: {}'.format(training_job_name))"
   ]
  },
  {
   "cell_type": "markdown",
   "id": "1c2edf0f-9938-4b7f-9a27-92b336eebcc5",
   "metadata": {},
   "source": [
    "You can also load the information about the Training Job using the function `describe()`. The result is in dictionary format. Let's check that it has the same Training Job name:"
   ]
  },
  {
   "cell_type": "code",
   "execution_count": 546,
   "id": "6a0a411b-00db-404b-b9ee-4001cc50c7e7",
   "metadata": {},
   "outputs": [
    {
     "name": "stdout",
     "output_type": "stream",
     "text": [
      "Training Job name: pytorch-training-2022-10-04-20-54-52-157\n"
     ]
    }
   ],
   "source": [
    "training_job_name = estimator.latest_training_job.describe()['TrainingJobName']\n",
    "\n",
    "print('Training Job name: {}'.format(training_job_name))"
   ]
  },
  {
   "cell_type": "code",
   "execution_count": 547,
   "id": "964e3729-ed3d-49c9-9a49-8e914cf892c0",
   "metadata": {},
   "outputs": [
    {
     "name": "stdout",
     "output_type": "stream",
     "text": [
      "dict_keys(['TrainingJobName', 'TrainingJobArn', 'TrainingJobStatus', 'SecondaryStatus', 'HyperParameters', 'AlgorithmSpecification', 'RoleArn', 'InputDataConfig', 'OutputDataConfig', 'ResourceConfig', 'StoppingCondition', 'CreationTime', 'LastModifiedTime', 'SecondaryStatusTransitions', 'EnableNetworkIsolation', 'EnableInterContainerTrafficEncryption', 'EnableManagedSpotTraining', 'DebugHookConfig', 'ProfilerConfig', 'ProfilerRuleConfigurations', 'ProfilerRuleEvaluationStatuses', 'ProfilingStatus', 'ResponseMetadata'])\n"
     ]
    }
   ],
   "source": [
    "print(estimator.latest_training_job.describe().keys())"
   ]
  },
  {
   "cell_type": "code",
   "execution_count": 548,
   "id": "cceda954-d35a-4ea5-b787-6d2460b528fd",
   "metadata": {},
   "outputs": [
    {
     "name": "stdout",
     "output_type": "stream",
     "text": [
      "Training Job status: InProgress\n"
     ]
    }
   ],
   "source": [
    "### BEGIN SOLUTION - DO NOT delete this comment for grading purposes\n",
    "training_job_status_primary = estimator.latest_training_job.describe()['TrainingJobStatus'] # Replace None\n",
    "### END SOLUTION - DO NOT delete this comment for grading purposes\n",
    "print('Training Job status: {}'.format(training_job_status_primary))"
   ]
  },
  {
   "cell_type": "code",
   "execution_count": 549,
   "id": "b555e028-000c-4cbd-8ef8-16dcbc82c4bd",
   "metadata": {},
   "outputs": [
    {
     "data": {
      "text/html": [
       "<b>Review <a target=\"blank\" href=\"https://console.aws.amazon.com/sagemaker/home?region=us-east-1#/jobs/pytorch-training-2022-10-04-20-54-52-157\">Training Job</a></b>"
      ],
      "text/plain": [
       "<IPython.core.display.HTML object>"
      ]
     },
     "metadata": {},
     "output_type": "display_data"
    }
   ],
   "source": [
    "from IPython.core.display import display, HTML\n",
    "\n",
    "display(HTML('<b>Review <a target=\"blank\" href=\"https://console.aws.amazon.com/sagemaker/home?region={}#/jobs/{}\">Training Job</a></b>'.format(region, training_job_name)))"
   ]
  },
  {
   "cell_type": "code",
   "execution_count": 550,
   "id": "915b1678-9c8d-4a36-8e67-925df4a6e534",
   "metadata": {},
   "outputs": [
    {
     "data": {
      "text/html": [
       "<b>Review <a target=\"blank\" href=\"https://console.aws.amazon.com/cloudwatch/home?region=us-east-1#logStream:group=/aws/sagemaker/TrainingJobs;prefix=pytorch-training-2022-10-04-20-54-52-157;streamFilter=typeLogStreamPrefix\">CloudWatch logs</a> after about 5 minutes</b>"
      ],
      "text/plain": [
       "<IPython.core.display.HTML object>"
      ]
     },
     "metadata": {},
     "output_type": "display_data"
    }
   ],
   "source": [
    "from IPython.core.display import display, HTML\n",
    "\n",
    "display(HTML('<b>Review <a target=\"blank\" href=\"https://console.aws.amazon.com/cloudwatch/home?region={}#logStream:group=/aws/sagemaker/TrainingJobs;prefix={};streamFilter=typeLogStreamPrefix\">CloudWatch logs</a> after about 5 minutes</b>'.format(region, training_job_name)))"
   ]
  },
  {
   "cell_type": "code",
   "execution_count": 551,
   "id": "cb5adda1-4fec-4d8d-b373-040b326a1b42",
   "metadata": {},
   "outputs": [
    {
     "data": {
      "text/html": [
       "<b>Review <a target=\"blank\" href=\"https://s3.console.aws.amazon.com/s3/buckets/sagemaker-us-east-1-441750884902/pytorch-training-2022-10-04-20-54-52-157/?region=us-east-1&tab=overview\">S3 output data</a> after the Training Job has completed</b>"
      ],
      "text/plain": [
       "<IPython.core.display.HTML object>"
      ]
     },
     "metadata": {},
     "output_type": "display_data"
    }
   ],
   "source": [
    "from IPython.core.display import display, HTML\n",
    "\n",
    "display(HTML('<b>Review <a target=\"blank\" href=\"https://s3.console.aws.amazon.com/s3/buckets/{}/{}/?region={}&tab=overview\">S3 output data</a> after the Training Job has completed</b>'.format(bucket, training_job_name, region)))\n"
   ]
  },
  {
   "cell_type": "code",
   "execution_count": 552,
   "id": "ad91da62-a722-4880-9585-2e88a030d410",
   "metadata": {},
   "outputs": [
    {
     "name": "stdout",
     "output_type": "stream",
     "text": [
      "\n",
      "2022-10-04 20:54:52 Starting - Starting the training job....\n",
      "2022-10-04 20:55:22 Starting - Preparing the instances for training............\n",
      "2022-10-04 20:56:31 Downloading - Downloading input data.....\n",
      "2022-10-04 20:57:00 Training - Downloading the training image......................\n",
      "2022-10-04 20:58:56 Training - Training image download completed. Training in progress..................................................\n",
      "2022-10-04 21:03:07 Uploading - Uploading generated training model....................................................................................................................................................................................................................\n",
      "2022-10-04 21:20:59 Completed - Training job completed\n",
      "CPU times: user 1.38 s, sys: 92.4 ms, total: 1.47 s\n",
      "Wall time: 25min 59s\n"
     ]
    }
   ],
   "source": [
    "%%time\n",
    "\n",
    "estimator.latest_training_job.wait(logs=False)"
   ]
  },
  {
   "cell_type": "code",
   "execution_count": 553,
   "id": "c604c345-96cd-4c31-bc2a-9735904c850b",
   "metadata": {},
   "outputs": [
    {
     "data": {
      "text/html": [
       "<div>\n",
       "<style scoped>\n",
       "    .dataframe tbody tr th:only-of-type {\n",
       "        vertical-align: middle;\n",
       "    }\n",
       "\n",
       "    .dataframe tbody tr th {\n",
       "        vertical-align: top;\n",
       "    }\n",
       "\n",
       "    .dataframe thead th {\n",
       "        text-align: right;\n",
       "    }\n",
       "</style>\n",
       "<table border=\"1\" class=\"dataframe\">\n",
       "  <thead>\n",
       "    <tr style=\"text-align: right;\">\n",
       "      <th></th>\n",
       "      <th>timestamp</th>\n",
       "      <th>metric_name</th>\n",
       "      <th>value</th>\n",
       "    </tr>\n",
       "  </thead>\n",
       "  <tbody>\n",
       "    <tr>\n",
       "      <th>0</th>\n",
       "      <td>0.0</td>\n",
       "      <td>validation:loss</td>\n",
       "      <td>1.180000</td>\n",
       "    </tr>\n",
       "    <tr>\n",
       "      <th>1</th>\n",
       "      <td>60.0</td>\n",
       "      <td>validation:loss</td>\n",
       "      <td>1.287778</td>\n",
       "    </tr>\n",
       "    <tr>\n",
       "      <th>2</th>\n",
       "      <td>120.0</td>\n",
       "      <td>validation:loss</td>\n",
       "      <td>0.728333</td>\n",
       "    </tr>\n",
       "    <tr>\n",
       "      <th>3</th>\n",
       "      <td>180.0</td>\n",
       "      <td>validation:loss</td>\n",
       "      <td>0.595833</td>\n",
       "    </tr>\n",
       "    <tr>\n",
       "      <th>4</th>\n",
       "      <td>0.0</td>\n",
       "      <td>validation:accuracy</td>\n",
       "      <td>35.420000</td>\n",
       "    </tr>\n",
       "    <tr>\n",
       "      <th>5</th>\n",
       "      <td>60.0</td>\n",
       "      <td>validation:accuracy</td>\n",
       "      <td>59.260000</td>\n",
       "    </tr>\n",
       "    <tr>\n",
       "      <th>6</th>\n",
       "      <td>120.0</td>\n",
       "      <td>validation:accuracy</td>\n",
       "      <td>61.459167</td>\n",
       "    </tr>\n",
       "    <tr>\n",
       "      <th>7</th>\n",
       "      <td>180.0</td>\n",
       "      <td>validation:accuracy</td>\n",
       "      <td>57.638333</td>\n",
       "    </tr>\n",
       "  </tbody>\n",
       "</table>\n",
       "</div>"
      ],
      "text/plain": [
       "   timestamp          metric_name      value\n",
       "0        0.0      validation:loss   1.180000\n",
       "1       60.0      validation:loss   1.287778\n",
       "2      120.0      validation:loss   0.728333\n",
       "3      180.0      validation:loss   0.595833\n",
       "4        0.0  validation:accuracy  35.420000\n",
       "5       60.0  validation:accuracy  59.260000\n",
       "6      120.0  validation:accuracy  61.459167\n",
       "7      180.0  validation:accuracy  57.638333"
      ]
     },
     "execution_count": 553,
     "metadata": {},
     "output_type": "execute_result"
    }
   ],
   "source": [
    "df_metrics = estimator.training_job_analytics.dataframe()\n",
    "df_metrics"
   ]
  },
  {
   "cell_type": "markdown",
   "id": "d108f81a-2db4-4b7c-8c33-a33240dfc7f8",
   "metadata": {},
   "source": [
    "You can query and plot the training metrics:"
   ]
  },
  {
   "cell_type": "code",
   "execution_count": 554,
   "id": "5cc00f4a-073d-464c-b7d5-47700f868066",
   "metadata": {},
   "outputs": [
    {
     "data": {
      "text/plain": [
       "<matplotlib.axes._subplots.AxesSubplot at 0x7fb4cacc8c90>"
      ]
     },
     "execution_count": 554,
     "metadata": {},
     "output_type": "execute_result"
    },
    {
     "data": {
      "image/png": "[encoded data removed]",
      "text/plain": [
       "<Figure size 640x480 with 1 Axes>"
      ]
     },
     "metadata": {
      "image/png": {
       "height": 432,
       "width": 543
      }
     },
     "output_type": "display_data"
    }
   ],
   "source": [
    "df_metrics.query(\"metric_name=='validation:accuracy'\").plot(x='timestamp', y='value')"
   ]
  },
  {
   "cell_type": "markdown",
   "id": "488d627f-f2e5-4e46-a4c8-88bd999685a0",
   "metadata": {},
   "source": [
    "<a name='c2w2-2.2.'></a>\n",
    "### 2.2. Analyze Debugger results"
   ]
  },
  {
   "cell_type": "code",
   "execution_count": 555,
   "id": "2a8505e2-c82f-463d-ac85-ca72cac68ba3",
   "metadata": {},
   "outputs": [
    {
     "data": {
      "text/html": [
       "<b>Review <a target=\"blank\" href=\"https://s3.console.aws.amazon.com/s3/buckets/sagemaker-us-east-1-441750884902?prefix=pytorch-training-2022-10-04-20-54-52-157/\">S3 debugger output data</a></b>"
      ],
      "text/plain": [
       "<IPython.core.display.HTML object>"
      ]
     },
     "metadata": {},
     "output_type": "display_data"
    }
   ],
   "source": [
    "from IPython.core.display import display, HTML\n",
    "\n",
    "display(\n",
    "    HTML(\n",
    "        '<b>Review <a target=\"blank\" href=\"https://s3.console.aws.amazon.com/s3/buckets/{}?prefix={}/\">S3 debugger output data</a></b>'.format(\n",
    "            bucket, training_job_name\n",
    "        )\n",
    "    )\n",
    ")"
   ]
  },
  {
   "cell_type": "markdown",
   "id": "8307f36d-a884-4401-9877-57b6456ac28e",
   "metadata": {},
   "source": [
    "<a name='c2w2-2.3.'></a>\n",
    "### 2.3. Download SageMaker debugger profiling report"
   ]
  },
  {
   "cell_type": "code",
   "execution_count": 556,
   "id": "f0f07d81-757f-4a58-a549-1b5eedff6468",
   "metadata": {},
   "outputs": [],
   "source": [
    "profiler_report_s3_uri = \"s3://{}/{}/rule-output/ProfilerReport/profiler-output\".format(bucket, training_job_name)"
   ]
  },
  {
   "cell_type": "code",
   "execution_count": 557,
   "id": "70660636-b512-401d-8fac-5630e56359b9",
   "metadata": {},
   "outputs": [
    {
     "name": "stdout",
     "output_type": "stream",
     "text": [
      "                           PRE profiler-reports/\n",
      "2022-10-04 21:18:01     380624 profiler-report.html\n",
      "2022-10-04 21:18:01     229757 profiler-report.ipynb\n"
     ]
    }
   ],
   "source": [
    "!aws s3 ls $profiler_report_s3_uri/"
   ]
  },
  {
   "cell_type": "code",
   "execution_count": 558,
   "id": "26e17379-b425-44a7-b9e3-262f49edc58e",
   "metadata": {},
   "outputs": [
    {
     "name": "stdout",
     "output_type": "stream",
     "text": [
      "download: s3://sagemaker-us-east-1-441750884902/pytorch-training-2022-10-04-20-54-52-157/rule-output/ProfilerReport/profiler-output/profiler-reports/Dataloader.json to profiler_report/profiler-reports/Dataloader.json\n",
      "download: s3://sagemaker-us-east-1-441750884902/pytorch-training-2022-10-04-20-54-52-157/rule-output/ProfilerReport/profiler-output/profiler-reports/CPUBottleneck.json to profiler_report/profiler-reports/CPUBottleneck.json\n",
      "download: s3://sagemaker-us-east-1-441750884902/pytorch-training-2022-10-04-20-54-52-157/rule-output/ProfilerReport/profiler-output/profiler-reports/BatchSize.json to profiler_report/profiler-reports/BatchSize.json\n",
      "download: s3://sagemaker-us-east-1-441750884902/pytorch-training-2022-10-04-20-54-52-157/rule-output/ProfilerReport/profiler-output/profiler-report.html to profiler_report/profiler-report.html\n",
      "download: s3://sagemaker-us-east-1-441750884902/pytorch-training-2022-10-04-20-54-52-157/rule-output/ProfilerReport/profiler-output/profiler-report.ipynb to profiler_report/profiler-report.ipynb\n",
      "download: s3://sagemaker-us-east-1-441750884902/pytorch-training-2022-10-04-20-54-52-157/rule-output/ProfilerReport/profiler-output/profiler-reports/LoadBalancing.json to profiler_report/profiler-reports/LoadBalancing.json\n",
      "download: s3://sagemaker-us-east-1-441750884902/pytorch-training-2022-10-04-20-54-52-157/rule-output/ProfilerReport/profiler-output/profiler-reports/GPUMemoryIncrease.json to profiler_report/profiler-reports/GPUMemoryIncrease.json\n",
      "download: s3://sagemaker-us-east-1-441750884902/pytorch-training-2022-10-04-20-54-52-157/rule-output/ProfilerReport/profiler-output/profiler-reports/IOBottleneck.json to profiler_report/profiler-reports/IOBottleneck.json\n",
      "download: s3://sagemaker-us-east-1-441750884902/pytorch-training-2022-10-04-20-54-52-157/rule-output/ProfilerReport/profiler-output/profiler-reports/LowGPUUtilization.json to profiler_report/profiler-reports/LowGPUUtilization.json\n",
      "download: s3://sagemaker-us-east-1-441750884902/pytorch-training-2022-10-04-20-54-52-157/rule-output/ProfilerReport/profiler-output/profiler-reports/MaxInitializationTime.json to profiler_report/profiler-reports/MaxInitializationTime.json\n",
      "download: s3://sagemaker-us-east-1-441750884902/pytorch-training-2022-10-04-20-54-52-157/rule-output/ProfilerReport/profiler-output/profiler-reports/StepOutlier.json to profiler_report/profiler-reports/StepOutlier.json\n",
      "download: s3://sagemaker-us-east-1-441750884902/pytorch-training-2022-10-04-20-54-52-157/rule-output/ProfilerReport/profiler-output/profiler-reports/OverallSystemUsage.json to profiler_report/profiler-reports/OverallSystemUsage.json\n",
      "download: s3://sagemaker-us-east-1-441750884902/pytorch-training-2022-10-04-20-54-52-157/rule-output/ProfilerReport/profiler-output/profiler-reports/OverallFrameworkMetrics.json to profiler_report/profiler-reports/OverallFrameworkMetrics.json\n"
     ]
    }
   ],
   "source": [
    "!aws s3 cp --recursive $profiler_report_s3_uri ./profiler_report/"
   ]
  },
  {
   "cell_type": "code",
   "execution_count": 559,
   "id": "1c5b92ed-bed6-45d9-a249-f61217ba30a8",
   "metadata": {},
   "outputs": [
    {
     "data": {
      "text/html": [
       "<b>Review <a target=\"blank\" href=\"./profiler_report/profiler-report.html\">profiler report</a></b>"
      ],
      "text/plain": [
       "<IPython.core.display.HTML object>"
      ]
     },
     "metadata": {},
     "output_type": "display_data"
    }
   ],
   "source": [
    "from IPython.core.display import display, HTML\n",
    "\n",
    "display(HTML('<b>Review <a target=\"blank\" href=\"./profiler_report/profiler-report.html\">profiler report</a></b>'))"
   ]
  },
  {
   "cell_type": "code",
   "execution_count": 560,
   "id": "a3ea05d1-928b-41a6-8d46-99cf05310cb2",
   "metadata": {},
   "outputs": [
    {
     "name": "stdout",
     "output_type": "stream",
     "text": [
      "pytorch-training-2022-10-04-20-54-52-157-pt-1664297330\n"
     ]
    }
   ],
   "source": [
    "import time\n",
    "\n",
    "pytorch_endpoint_name = '{}-{}-{}'.format(training_job_name, 'pt', timestamp)\n",
    "\n",
    "print(pytorch_endpoint_name)"
   ]
  },
  {
   "cell_type": "code",
   "execution_count": 233,
   "id": "d631a95e-726f-4f80-8cf9-87bd1ff2e051",
   "metadata": {},
   "outputs": [
    {
     "ename": "NameError",
     "evalue": "name 'model' is not defined",
     "output_type": "error",
     "traceback": [
      "\u001b[0;31m---------------------------------------------------------------------------\u001b[0m",
      "\u001b[0;31mNameError\u001b[0m                                 Traceback (most recent call last)",
      "\u001b[0;32m<timed exec>\u001b[0m in \u001b[0;36m<module>\u001b[0;34m\u001b[0m\n",
      "\u001b[0;31mNameError\u001b[0m: name 'model' is not defined"
     ]
    }
   ],
   "source": [
    "# %%time\n",
    "\n",
    "# predictor = model.deploy(initial_instance_count=1, \n",
    "#                          instance_type='ml.m5.large', \n",
    "#                          endpoint_name=pytorch_endpoint_name)"
   ]
  },
  {
   "cell_type": "code",
   "execution_count": null,
   "id": "e1b77cd3-5511-4db1-8ba6-7635bc943c51",
   "metadata": {},
   "outputs": [],
   "source": [
    "# from IPython.core.display import display, HTML\n",
    "\n",
    "# display(HTML('<b>Review <a target=\"blank\" href=\"https://console.aws.amazon.com/sagemaker/home?region={}#/endpoints/{}\">SageMaker REST Endpoint</a></b>'.format(region, pytorch_endpoint_name)))"
   ]
  }
 ],
 "metadata": {
  "instance_type": "ml.t3.medium",
  "kernelspec": {
   "display_name": "Python 3 (Data Science)",
   "language": "python",
   "name": "python3__SAGEMAKER_INTERNAL__arn:aws:sagemaker:us-east-1:081325390199:image/datascience-1.0"
  },
  "language_info": {
   "codemirror_mode": {
    "name": "ipython",
    "version": 3
   },
   "file_extension": ".py",
   "mimetype": "text/x-python",
   "name": "python",
   "nbconvert_exporter": "python",
   "pygments_lexer": "ipython3",
   "version": "3.7.10"
  }
 },
 "nbformat": 4,
 "nbformat_minor": 5
}
